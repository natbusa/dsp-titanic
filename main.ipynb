{
 "cells": [
  {
   "cell_type": "markdown",
   "metadata": {},
   "source": [
    "# Test\n",
    "\n",
    "Import some bespoken python data science libraries and print their version numbers"
   ]
  },
  {
   "cell_type": "code",
   "execution_count": 3,
   "metadata": {},
   "outputs": [],
   "source": [
    "import pandas as pd"
   ]
  },
  {
   "cell_type": "code",
   "execution_count": 4,
   "metadata": {},
   "outputs": [
    {
     "name": "stdout",
     "output_type": "stream",
     "text": [
      "\n",
      "INSTALLED VERSIONS\n",
      "------------------\n",
      "commit: None\n",
      "python: 3.6.4.final.0\n",
      "python-bits: 64\n",
      "OS: Linux\n",
      "OS-release: 4.13.0-26-generic\n",
      "machine: x86_64\n",
      "processor: x86_64\n",
      "byteorder: little\n",
      "LC_ALL: en_US.UTF-8\n",
      "LANG: en_US.UTF-8\n",
      "LOCALE: en_US.UTF-8\n",
      "\n",
      "pandas: 0.21.1\n",
      "pytest: None\n",
      "pip: 9.0.1\n",
      "setuptools: 38.4.0\n",
      "Cython: None\n",
      "numpy: 1.14.0\n",
      "scipy: None\n",
      "pyarrow: None\n",
      "xarray: None\n",
      "IPython: 6.2.1\n",
      "sphinx: None\n",
      "patsy: None\n",
      "dateutil: 2.6.1\n",
      "pytz: 2017.3\n",
      "blosc: None\n",
      "bottleneck: None\n",
      "tables: None\n",
      "numexpr: None\n",
      "feather: None\n",
      "matplotlib: None\n",
      "openpyxl: None\n",
      "xlrd: None\n",
      "xlwt: None\n",
      "xlsxwriter: None\n",
      "lxml: None\n",
      "bs4: None\n",
      "html5lib: 1.0.1\n",
      "sqlalchemy: None\n",
      "pymysql: None\n",
      "psycopg2: None\n",
      "jinja2: 2.10\n",
      "s3fs: None\n",
      "fastparquet: None\n",
      "pandas_gbq: None\n",
      "pandas_datareader: None\n",
      "None\n"
     ]
    }
   ],
   "source": [
    "print(pd.show_versions())"
   ]
  },
  {
   "cell_type": "code",
   "execution_count": 6,
   "metadata": {
    "collapsed": true
   },
   "outputs": [
    {
     "name": "stdout",
     "output_type": "stream",
     "text": [
      " __________________\n",
      "< this is awesome! >\n",
      " ------------------\n",
      "        \\   ^__^\n",
      "         \\  (oo)\\_______\n",
      "            (__)\\       )\\/\\\n",
      "                ||----w |\n",
      "                ||     ||\n"
     ]
    }
   ],
   "source": [
    "!/usr/games/cowsay this is awesome!"
   ]
  },
  {
   "cell_type": "code",
   "execution_count": null,
   "metadata": {},
   "outputs": [],
   "source": []
  }
 ],
 "metadata": {
  "kernelspec": {
   "display_name": "Python 3",
   "language": "python",
   "name": "python3"
  },
  "language_info": {
   "codemirror_mode": {
    "name": "ipython",
    "version": 3
   },
   "file_extension": ".py",
   "mimetype": "text/x-python",
   "name": "python",
   "nbconvert_exporter": "python",
   "pygments_lexer": "ipython3",
   "version": "3.6.4"
  }
 },
 "nbformat": 4,
 "nbformat_minor": 2
}
