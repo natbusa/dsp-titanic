{
 "cells": [
  {
   "cell_type": "markdown",
   "metadata": {
    "deletable": true,
    "editable": true
   },
   "source": [
    "## Titanic Dataset"
   ]
  },
  {
   "cell_type": "code",
   "execution_count": 1,
   "metadata": {},
   "outputs": [],
   "source": [
    "import datalabframework as dlf"
   ]
  },
  {
   "cell_type": "code",
   "execution_count": 2,
   "metadata": {},
   "outputs": [],
   "source": [
    "logger = dlf.log.logger()"
   ]
  },
  {
   "cell_type": "markdown",
   "metadata": {},
   "source": [
    " - logtime\n",
    " - level\n",
    " - username\n",
    " - git hash\n",
    " - git last commit author\n",
    " - git last commit email\n",
    " - git last commit time\n",
    " - git last commit dirty\n",
    " - git repo\n",
    " - git origin\n",
    " - file path\n",
    " - file basename\n",
    " - msg (either dict or text)"
   ]
  },
  {
   "cell_type": "markdown",
   "metadata": {
    "deletable": true,
    "editable": true
   },
   "source": [
    "## Extract Data"
   ]
  },
  {
   "cell_type": "markdown",
   "metadata": {},
   "source": [
    "### Train dataset"
   ]
  },
  {
   "cell_type": "code",
   "execution_count": 3,
   "metadata": {},
   "outputs": [],
   "source": [
    "engine = dlf.engines.get('pandas')"
   ]
  },
  {
   "cell_type": "code",
   "execution_count": 4,
   "metadata": {},
   "outputs": [
    {
     "name": "stdout",
     "output_type": "stream",
     "text": [
      "2018-02-28 18:21:24,139 - INFO - natbusa - 1384df7 - natbusa - natalino.busa@gmail.com - 1519787735 - True - https://github.com/natbusa/dsp-titanic.git - dsp-titanic - extract.ipynb - elements/extract - Reading .elements.raw.train\n"
     ]
    }
   ],
   "source": [
    "train = dlf.data.read('.elements.raw.train')"
   ]
  },
  {
   "cell_type": "code",
   "execution_count": 5,
   "metadata": {},
   "outputs": [
    {
     "name": "stdout",
     "output_type": "stream",
     "text": [
      "2018-02-28 18:21:24,152 - INFO - natbusa - 1384df7 - natbusa - natalino.busa@gmail.com - 1519787735 - True - https://github.com/natbusa/dsp-titanic.git - dsp-titanic - extract.ipynb - elements/extract - {'data': {'id': '.elements.raw.train', 'shape': {'rows': 891, 'cols': 12}, 'values': {'zero': 1850, 'empty': 0, 'none': 0, 'null': 866}, 'types': {'<i8': 5, '|O': 5, '<f8': 2}}, 'type': 'dataset', 'task': 'stats'}\n"
     ]
    },
    {
     "data": {
      "text/plain": [
       "{'id': '.elements.raw.train',\n",
       " 'shape': {'cols': 12, 'rows': 891},\n",
       " 'types': {'<f8': 2, '<i8': 5, '|O': 5},\n",
       " 'values': {'empty': 0, 'none': 0, 'null': 866, 'zero': 1850}}"
      ]
     },
     "execution_count": 5,
     "metadata": {},
     "output_type": "execute_result"
    }
   ],
   "source": [
    "train.stats()"
   ]
  },
  {
   "cell_type": "code",
   "execution_count": 6,
   "metadata": {},
   "outputs": [
    {
     "data": {
      "text/plain": [
       "{'engine': 'pandas',\n",
       " 'format': 'csv',\n",
       " 'name': '.elements.raw.train',\n",
       " 'path': 'raw/train.csv',\n",
       " 'provider': 'local',\n",
       " 'uri': '.elements.raw.train'}"
      ]
     },
     "execution_count": 6,
     "metadata": {},
     "output_type": "execute_result"
    }
   ],
   "source": [
    "train.info()"
   ]
  },
  {
   "cell_type": "code",
   "execution_count": 7,
   "metadata": {},
   "outputs": [
    {
     "data": {
      "text/html": [
       "<div>\n",
       "<style>\n",
       "    .dataframe thead tr:only-child th {\n",
       "        text-align: right;\n",
       "    }\n",
       "\n",
       "    .dataframe thead th {\n",
       "        text-align: left;\n",
       "    }\n",
       "\n",
       "    .dataframe tbody tr th {\n",
       "        vertical-align: top;\n",
       "    }\n",
       "</style>\n",
       "<table border=\"1\" class=\"dataframe\">\n",
       "  <thead>\n",
       "    <tr style=\"text-align: right;\">\n",
       "      <th></th>\n",
       "      <th>PassengerId</th>\n",
       "      <th>Survived</th>\n",
       "      <th>Pclass</th>\n",
       "      <th>Name</th>\n",
       "      <th>Sex</th>\n",
       "      <th>Age</th>\n",
       "      <th>SibSp</th>\n",
       "      <th>Parch</th>\n",
       "      <th>Ticket</th>\n",
       "      <th>Fare</th>\n",
       "      <th>Cabin</th>\n",
       "      <th>Embarked</th>\n",
       "    </tr>\n",
       "  </thead>\n",
       "  <tbody>\n",
       "    <tr>\n",
       "      <th>76</th>\n",
       "      <td>77</td>\n",
       "      <td>0</td>\n",
       "      <td>3</td>\n",
       "      <td>Staneff, Mr. Ivan</td>\n",
       "      <td>male</td>\n",
       "      <td>NaN</td>\n",
       "      <td>0</td>\n",
       "      <td>0</td>\n",
       "      <td>349208</td>\n",
       "      <td>7.8958</td>\n",
       "      <td>NaN</td>\n",
       "      <td>S</td>\n",
       "    </tr>\n",
       "    <tr>\n",
       "      <th>370</th>\n",
       "      <td>371</td>\n",
       "      <td>1</td>\n",
       "      <td>1</td>\n",
       "      <td>Harder, Mr. George Achilles</td>\n",
       "      <td>male</td>\n",
       "      <td>25.0</td>\n",
       "      <td>1</td>\n",
       "      <td>0</td>\n",
       "      <td>11765</td>\n",
       "      <td>55.4417</td>\n",
       "      <td>E50</td>\n",
       "      <td>C</td>\n",
       "    </tr>\n",
       "    <tr>\n",
       "      <th>457</th>\n",
       "      <td>458</td>\n",
       "      <td>1</td>\n",
       "      <td>1</td>\n",
       "      <td>Kenyon, Mrs. Frederick R (Marion)</td>\n",
       "      <td>female</td>\n",
       "      <td>NaN</td>\n",
       "      <td>1</td>\n",
       "      <td>0</td>\n",
       "      <td>17464</td>\n",
       "      <td>51.8625</td>\n",
       "      <td>D21</td>\n",
       "      <td>S</td>\n",
       "    </tr>\n",
       "    <tr>\n",
       "      <th>399</th>\n",
       "      <td>400</td>\n",
       "      <td>1</td>\n",
       "      <td>2</td>\n",
       "      <td>Trout, Mrs. William H (Jessie L)</td>\n",
       "      <td>female</td>\n",
       "      <td>28.0</td>\n",
       "      <td>0</td>\n",
       "      <td>0</td>\n",
       "      <td>240929</td>\n",
       "      <td>12.6500</td>\n",
       "      <td>NaN</td>\n",
       "      <td>S</td>\n",
       "    </tr>\n",
       "    <tr>\n",
       "      <th>400</th>\n",
       "      <td>401</td>\n",
       "      <td>1</td>\n",
       "      <td>3</td>\n",
       "      <td>Niskanen, Mr. Juha</td>\n",
       "      <td>male</td>\n",
       "      <td>39.0</td>\n",
       "      <td>0</td>\n",
       "      <td>0</td>\n",
       "      <td>STON/O 2. 3101289</td>\n",
       "      <td>7.9250</td>\n",
       "      <td>NaN</td>\n",
       "      <td>S</td>\n",
       "    </tr>\n",
       "    <tr>\n",
       "      <th>853</th>\n",
       "      <td>854</td>\n",
       "      <td>1</td>\n",
       "      <td>1</td>\n",
       "      <td>Lines, Miss. Mary Conover</td>\n",
       "      <td>female</td>\n",
       "      <td>16.0</td>\n",
       "      <td>0</td>\n",
       "      <td>1</td>\n",
       "      <td>PC 17592</td>\n",
       "      <td>39.4000</td>\n",
       "      <td>D28</td>\n",
       "      <td>S</td>\n",
       "    </tr>\n",
       "    <tr>\n",
       "      <th>229</th>\n",
       "      <td>230</td>\n",
       "      <td>0</td>\n",
       "      <td>3</td>\n",
       "      <td>Lefebre, Miss. Mathilde</td>\n",
       "      <td>female</td>\n",
       "      <td>NaN</td>\n",
       "      <td>3</td>\n",
       "      <td>1</td>\n",
       "      <td>4133</td>\n",
       "      <td>25.4667</td>\n",
       "      <td>NaN</td>\n",
       "      <td>S</td>\n",
       "    </tr>\n",
       "    <tr>\n",
       "      <th>178</th>\n",
       "      <td>179</td>\n",
       "      <td>0</td>\n",
       "      <td>2</td>\n",
       "      <td>Hale, Mr. Reginald</td>\n",
       "      <td>male</td>\n",
       "      <td>30.0</td>\n",
       "      <td>0</td>\n",
       "      <td>0</td>\n",
       "      <td>250653</td>\n",
       "      <td>13.0000</td>\n",
       "      <td>NaN</td>\n",
       "      <td>S</td>\n",
       "    </tr>\n",
       "    <tr>\n",
       "      <th>468</th>\n",
       "      <td>469</td>\n",
       "      <td>0</td>\n",
       "      <td>3</td>\n",
       "      <td>Scanlan, Mr. James</td>\n",
       "      <td>male</td>\n",
       "      <td>NaN</td>\n",
       "      <td>0</td>\n",
       "      <td>0</td>\n",
       "      <td>36209</td>\n",
       "      <td>7.7250</td>\n",
       "      <td>NaN</td>\n",
       "      <td>Q</td>\n",
       "    </tr>\n",
       "    <tr>\n",
       "      <th>208</th>\n",
       "      <td>209</td>\n",
       "      <td>1</td>\n",
       "      <td>3</td>\n",
       "      <td>Carr, Miss. Helen \"Ellen\"</td>\n",
       "      <td>female</td>\n",
       "      <td>16.0</td>\n",
       "      <td>0</td>\n",
       "      <td>0</td>\n",
       "      <td>367231</td>\n",
       "      <td>7.7500</td>\n",
       "      <td>NaN</td>\n",
       "      <td>Q</td>\n",
       "    </tr>\n",
       "  </tbody>\n",
       "</table>\n",
       "</div>"
      ],
      "text/plain": [
       "     PassengerId  Survived  Pclass                               Name     Sex  \\\n",
       "76            77         0       3                  Staneff, Mr. Ivan    male   \n",
       "370          371         1       1        Harder, Mr. George Achilles    male   \n",
       "457          458         1       1  Kenyon, Mrs. Frederick R (Marion)  female   \n",
       "399          400         1       2   Trout, Mrs. William H (Jessie L)  female   \n",
       "400          401         1       3                 Niskanen, Mr. Juha    male   \n",
       "853          854         1       1          Lines, Miss. Mary Conover  female   \n",
       "229          230         0       3            Lefebre, Miss. Mathilde  female   \n",
       "178          179         0       2                 Hale, Mr. Reginald    male   \n",
       "468          469         0       3                 Scanlan, Mr. James    male   \n",
       "208          209         1       3          Carr, Miss. Helen \"Ellen\"  female   \n",
       "\n",
       "      Age  SibSp  Parch             Ticket     Fare Cabin Embarked  \n",
       "76    NaN      0      0             349208   7.8958   NaN        S  \n",
       "370  25.0      1      0              11765  55.4417   E50        C  \n",
       "457   NaN      1      0              17464  51.8625   D21        S  \n",
       "399  28.0      0      0             240929  12.6500   NaN        S  \n",
       "400  39.0      0      0  STON/O 2. 3101289   7.9250   NaN        S  \n",
       "853  16.0      0      1           PC 17592  39.4000   D28        S  \n",
       "229   NaN      3      1               4133  25.4667   NaN        S  \n",
       "178  30.0      0      0             250653  13.0000   NaN        S  \n",
       "468   NaN      0      0              36209   7.7250   NaN        Q  \n",
       "208  16.0      0      0             367231   7.7500   NaN        Q  "
      ]
     },
     "execution_count": 7,
     "metadata": {},
     "output_type": "execute_result"
    }
   ],
   "source": [
    "train.data.sample(10)"
   ]
  },
  {
   "cell_type": "code",
   "execution_count": 8,
   "metadata": {},
   "outputs": [
    {
     "data": {
      "text/plain": [
       "int64      5\n",
       "object     5\n",
       "float64    2\n",
       "dtype: int64"
      ]
     },
     "execution_count": 8,
     "metadata": {},
     "output_type": "execute_result"
    }
   ],
   "source": [
    "train.data.dtypes.value_counts()"
   ]
  },
  {
   "cell_type": "code",
   "execution_count": 9,
   "metadata": {},
   "outputs": [
    {
     "data": {
      "text/plain": [
       "PassengerId      0\n",
       "Survived         0\n",
       "Pclass           0\n",
       "Name             0\n",
       "Sex              0\n",
       "Age            177\n",
       "SibSp            0\n",
       "Parch            0\n",
       "Ticket           0\n",
       "Fare             0\n",
       "Cabin          687\n",
       "Embarked         2\n",
       "dtype: int64"
      ]
     },
     "execution_count": 9,
     "metadata": {},
     "output_type": "execute_result"
    }
   ],
   "source": [
    "train.data.isnull().sum()"
   ]
  },
  {
   "cell_type": "code",
   "execution_count": 10,
   "metadata": {},
   "outputs": [
    {
     "data": {
      "text/plain": [
       "PassengerId      0\n",
       "Survived       549\n",
       "Pclass           0\n",
       "Name             0\n",
       "Sex              0\n",
       "Age              0\n",
       "SibSp          608\n",
       "Parch          678\n",
       "Ticket           0\n",
       "Fare            15\n",
       "Cabin            0\n",
       "Embarked         0\n",
       "dtype: int64"
      ]
     },
     "execution_count": 10,
     "metadata": {},
     "output_type": "execute_result"
    }
   ],
   "source": [
    "train.data.isin([0,'',None]).sum()"
   ]
  },
  {
   "cell_type": "markdown",
   "metadata": {},
   "source": [
    "### Test Dataset"
   ]
  },
  {
   "cell_type": "code",
   "execution_count": 11,
   "metadata": {},
   "outputs": [
    {
     "name": "stdout",
     "output_type": "stream",
     "text": [
      "2018-02-28 18:21:24,316 - INFO - natbusa - 1384df7 - natbusa - natalino.busa@gmail.com - 1519787735 - True - https://github.com/natbusa/dsp-titanic.git - dsp-titanic - extract.ipynb - elements/extract - Reading .elements.raw.test\n"
     ]
    }
   ],
   "source": [
    "test = dlf.data.read('.elements.raw.test')"
   ]
  },
  {
   "cell_type": "code",
   "execution_count": 12,
   "metadata": {},
   "outputs": [
    {
     "data": {
      "text/plain": [
       "{'engine': 'pandas',\n",
       " 'format': 'csv',\n",
       " 'name': '.elements.raw.test',\n",
       " 'path': 'raw/test.csv',\n",
       " 'provider': 'local',\n",
       " 'uri': '.elements.raw.test'}"
      ]
     },
     "execution_count": 12,
     "metadata": {},
     "output_type": "execute_result"
    }
   ],
   "source": [
    "dlf.data.info('.elements.raw.test')"
   ]
  },
  {
   "cell_type": "code",
   "execution_count": 13,
   "metadata": {},
   "outputs": [
    {
     "name": "stdout",
     "output_type": "stream",
     "text": [
      "2018-02-28 18:21:24,449 - INFO - natbusa - 1384df7 - natbusa - natalino.busa@gmail.com - 1519787735 - True - https://github.com/natbusa/dsp-titanic.git - dsp-titanic - extract.ipynb - elements/extract - Reading .elements.raw.test\n",
      "2018-02-28 18:21:24,456 - INFO - natbusa - 1384df7 - natbusa - natalino.busa@gmail.com - 1519787735 - True - https://github.com/natbusa/dsp-titanic.git - dsp-titanic - extract.ipynb - elements/extract - {'data': {'id': '.elements.raw.test', 'shape': {'rows': 418, 'cols': 11}, 'values': {'zero': 609, 'empty': 0, 'none': 0, 'null': 414}, 'types': {'|O': 5, '<i8': 4, '<f8': 2}}, 'type': 'dataset', 'task': 'stats'}\n"
     ]
    },
    {
     "data": {
      "text/plain": [
       "{'id': '.elements.raw.test',\n",
       " 'shape': {'cols': 11, 'rows': 418},\n",
       " 'types': {'<f8': 2, '<i8': 4, '|O': 5},\n",
       " 'values': {'empty': 0, 'none': 0, 'null': 414, 'zero': 609}}"
      ]
     },
     "execution_count": 13,
     "metadata": {},
     "output_type": "execute_result"
    }
   ],
   "source": [
    "dlf.data.stats('.elements.raw.test')"
   ]
  },
  {
   "cell_type": "code",
   "execution_count": 14,
   "metadata": {},
   "outputs": [
    {
     "data": {
      "text/html": [
       "<div>\n",
       "<style>\n",
       "    .dataframe thead tr:only-child th {\n",
       "        text-align: right;\n",
       "    }\n",
       "\n",
       "    .dataframe thead th {\n",
       "        text-align: left;\n",
       "    }\n",
       "\n",
       "    .dataframe tbody tr th {\n",
       "        vertical-align: top;\n",
       "    }\n",
       "</style>\n",
       "<table border=\"1\" class=\"dataframe\">\n",
       "  <thead>\n",
       "    <tr style=\"text-align: right;\">\n",
       "      <th></th>\n",
       "      <th>PassengerId</th>\n",
       "      <th>Pclass</th>\n",
       "      <th>Name</th>\n",
       "      <th>Sex</th>\n",
       "      <th>Age</th>\n",
       "      <th>SibSp</th>\n",
       "      <th>Parch</th>\n",
       "      <th>Ticket</th>\n",
       "      <th>Fare</th>\n",
       "      <th>Cabin</th>\n",
       "      <th>Embarked</th>\n",
       "    </tr>\n",
       "  </thead>\n",
       "  <tbody>\n",
       "    <tr>\n",
       "      <th>279</th>\n",
       "      <td>1171</td>\n",
       "      <td>2</td>\n",
       "      <td>Oxenham, Mr. Percy Thomas</td>\n",
       "      <td>male</td>\n",
       "      <td>22.0</td>\n",
       "      <td>0</td>\n",
       "      <td>0</td>\n",
       "      <td>W./C. 14260</td>\n",
       "      <td>10.5000</td>\n",
       "      <td>NaN</td>\n",
       "      <td>S</td>\n",
       "    </tr>\n",
       "    <tr>\n",
       "      <th>137</th>\n",
       "      <td>1029</td>\n",
       "      <td>2</td>\n",
       "      <td>Schmidt, Mr. August</td>\n",
       "      <td>male</td>\n",
       "      <td>26.0</td>\n",
       "      <td>0</td>\n",
       "      <td>0</td>\n",
       "      <td>248659</td>\n",
       "      <td>13.0000</td>\n",
       "      <td>NaN</td>\n",
       "      <td>S</td>\n",
       "    </tr>\n",
       "    <tr>\n",
       "      <th>333</th>\n",
       "      <td>1225</td>\n",
       "      <td>3</td>\n",
       "      <td>Nakid, Mrs. Said (Waika Mary\" Mowad)\"</td>\n",
       "      <td>female</td>\n",
       "      <td>19.0</td>\n",
       "      <td>1</td>\n",
       "      <td>1</td>\n",
       "      <td>2653</td>\n",
       "      <td>15.7417</td>\n",
       "      <td>NaN</td>\n",
       "      <td>C</td>\n",
       "    </tr>\n",
       "    <tr>\n",
       "      <th>252</th>\n",
       "      <td>1144</td>\n",
       "      <td>1</td>\n",
       "      <td>Clark, Mr. Walter Miller</td>\n",
       "      <td>male</td>\n",
       "      <td>27.0</td>\n",
       "      <td>1</td>\n",
       "      <td>0</td>\n",
       "      <td>13508</td>\n",
       "      <td>136.7792</td>\n",
       "      <td>C89</td>\n",
       "      <td>C</td>\n",
       "    </tr>\n",
       "    <tr>\n",
       "      <th>226</th>\n",
       "      <td>1118</td>\n",
       "      <td>3</td>\n",
       "      <td>Asplund, Mr. Johan Charles</td>\n",
       "      <td>male</td>\n",
       "      <td>23.0</td>\n",
       "      <td>0</td>\n",
       "      <td>0</td>\n",
       "      <td>350054</td>\n",
       "      <td>7.7958</td>\n",
       "      <td>NaN</td>\n",
       "      <td>S</td>\n",
       "    </tr>\n",
       "    <tr>\n",
       "      <th>332</th>\n",
       "      <td>1224</td>\n",
       "      <td>3</td>\n",
       "      <td>Thomas, Mr. Tannous</td>\n",
       "      <td>male</td>\n",
       "      <td>NaN</td>\n",
       "      <td>0</td>\n",
       "      <td>0</td>\n",
       "      <td>2684</td>\n",
       "      <td>7.2250</td>\n",
       "      <td>NaN</td>\n",
       "      <td>C</td>\n",
       "    </tr>\n",
       "    <tr>\n",
       "      <th>317</th>\n",
       "      <td>1209</td>\n",
       "      <td>2</td>\n",
       "      <td>Rogers, Mr. Reginald Harry</td>\n",
       "      <td>male</td>\n",
       "      <td>19.0</td>\n",
       "      <td>0</td>\n",
       "      <td>0</td>\n",
       "      <td>28004</td>\n",
       "      <td>10.5000</td>\n",
       "      <td>NaN</td>\n",
       "      <td>S</td>\n",
       "    </tr>\n",
       "    <tr>\n",
       "      <th>254</th>\n",
       "      <td>1146</td>\n",
       "      <td>3</td>\n",
       "      <td>Wenzel, Mr. Linhart</td>\n",
       "      <td>male</td>\n",
       "      <td>32.5</td>\n",
       "      <td>0</td>\n",
       "      <td>0</td>\n",
       "      <td>345775</td>\n",
       "      <td>9.5000</td>\n",
       "      <td>NaN</td>\n",
       "      <td>S</td>\n",
       "    </tr>\n",
       "    <tr>\n",
       "      <th>143</th>\n",
       "      <td>1035</td>\n",
       "      <td>2</td>\n",
       "      <td>Beauchamp, Mr. Henry James</td>\n",
       "      <td>male</td>\n",
       "      <td>28.0</td>\n",
       "      <td>0</td>\n",
       "      <td>0</td>\n",
       "      <td>244358</td>\n",
       "      <td>26.0000</td>\n",
       "      <td>NaN</td>\n",
       "      <td>S</td>\n",
       "    </tr>\n",
       "    <tr>\n",
       "      <th>405</th>\n",
       "      <td>1297</td>\n",
       "      <td>2</td>\n",
       "      <td>Nourney, Mr. Alfred (Baron von Drachstedt\")\"</td>\n",
       "      <td>male</td>\n",
       "      <td>20.0</td>\n",
       "      <td>0</td>\n",
       "      <td>0</td>\n",
       "      <td>SC/PARIS 2166</td>\n",
       "      <td>13.8625</td>\n",
       "      <td>D38</td>\n",
       "      <td>C</td>\n",
       "    </tr>\n",
       "  </tbody>\n",
       "</table>\n",
       "</div>"
      ],
      "text/plain": [
       "     PassengerId  Pclass                                          Name  \\\n",
       "279         1171       2                     Oxenham, Mr. Percy Thomas   \n",
       "137         1029       2                           Schmidt, Mr. August   \n",
       "333         1225       3         Nakid, Mrs. Said (Waika Mary\" Mowad)\"   \n",
       "252         1144       1                      Clark, Mr. Walter Miller   \n",
       "226         1118       3                    Asplund, Mr. Johan Charles   \n",
       "332         1224       3                           Thomas, Mr. Tannous   \n",
       "317         1209       2                    Rogers, Mr. Reginald Harry   \n",
       "254         1146       3                           Wenzel, Mr. Linhart   \n",
       "143         1035       2                    Beauchamp, Mr. Henry James   \n",
       "405         1297       2  Nourney, Mr. Alfred (Baron von Drachstedt\")\"   \n",
       "\n",
       "        Sex   Age  SibSp  Parch         Ticket      Fare Cabin Embarked  \n",
       "279    male  22.0      0      0    W./C. 14260   10.5000   NaN        S  \n",
       "137    male  26.0      0      0         248659   13.0000   NaN        S  \n",
       "333  female  19.0      1      1           2653   15.7417   NaN        C  \n",
       "252    male  27.0      1      0          13508  136.7792   C89        C  \n",
       "226    male  23.0      0      0         350054    7.7958   NaN        S  \n",
       "332    male   NaN      0      0           2684    7.2250   NaN        C  \n",
       "317    male  19.0      0      0          28004   10.5000   NaN        S  \n",
       "254    male  32.5      0      0         345775    9.5000   NaN        S  \n",
       "143    male  28.0      0      0         244358   26.0000   NaN        S  \n",
       "405    male  20.0      0      0  SC/PARIS 2166   13.8625   D38        C  "
      ]
     },
     "execution_count": 14,
     "metadata": {},
     "output_type": "execute_result"
    }
   ],
   "source": [
    "test.data.sample(10)"
   ]
  },
  {
   "cell_type": "code",
   "execution_count": 15,
   "metadata": {},
   "outputs": [
    {
     "name": "stdout",
     "output_type": "stream",
     "text": [
      "<class 'pandas.core.frame.DataFrame'>\n",
      "RangeIndex: 418 entries, 0 to 417\n",
      "Data columns (total 11 columns):\n",
      "PassengerId    418 non-null int64\n",
      "Pclass         418 non-null int64\n",
      "Name           418 non-null object\n",
      "Sex            418 non-null object\n",
      "Age            332 non-null float64\n",
      "SibSp          418 non-null int64\n",
      "Parch          418 non-null int64\n",
      "Ticket         418 non-null object\n",
      "Fare           417 non-null float64\n",
      "Cabin          91 non-null object\n",
      "Embarked       418 non-null object\n",
      "dtypes: float64(2), int64(4), object(5)\n",
      "memory usage: 36.0+ KB\n"
     ]
    }
   ],
   "source": [
    "test.data.info()"
   ]
  },
  {
   "cell_type": "code",
   "execution_count": 16,
   "metadata": {},
   "outputs": [
    {
     "data": {
      "text/plain": [
       "PassengerId      0\n",
       "Pclass           0\n",
       "Name             0\n",
       "Sex              0\n",
       "Age             86\n",
       "SibSp            0\n",
       "Parch            0\n",
       "Ticket           0\n",
       "Fare             1\n",
       "Cabin          327\n",
       "Embarked         0\n",
       "dtype: int64"
      ]
     },
     "execution_count": 16,
     "metadata": {},
     "output_type": "execute_result"
    }
   ],
   "source": [
    "test.data.isnull().sum()"
   ]
  },
  {
   "cell_type": "code",
   "execution_count": 17,
   "metadata": {},
   "outputs": [
    {
     "data": {
      "text/plain": [
       "PassengerId      0\n",
       "Pclass           0\n",
       "Name             0\n",
       "Sex              0\n",
       "Age              0\n",
       "SibSp          283\n",
       "Parch          324\n",
       "Ticket           0\n",
       "Fare             2\n",
       "Cabin            0\n",
       "Embarked         0\n",
       "dtype: int64"
      ]
     },
     "execution_count": 17,
     "metadata": {},
     "output_type": "execute_result"
    }
   ],
   "source": [
    "test.data.isin([0,'',None]).sum()"
   ]
  },
  {
   "cell_type": "markdown",
   "metadata": {},
   "source": [
    "### Write out Extracted Data from Raw\n",
    "\n",
    "If format conversion should happen it should be done here. In this particular example we assume that csv is our raw data and from here on all data is going to be compacted in binary format using HDF5 format. HDF5 allows to store multiple pandas DataFrame in the same file. This can be achieve by mapping multiple metadata aliases to the same data resource."
   ]
  },
  {
   "cell_type": "code",
   "execution_count": 18,
   "metadata": {},
   "outputs": [],
   "source": [
    "import warnings\n",
    "warnings.filterwarnings('ignore')"
   ]
  },
  {
   "cell_type": "code",
   "execution_count": 19,
   "metadata": {},
   "outputs": [
    {
     "name": "stdout",
     "output_type": "stream",
     "text": [
      "2018-02-28 18:21:24,782 - INFO - natbusa - 1384df7 - natbusa - natalino.busa@gmail.com - 1519787735 - True - https://github.com/natbusa/dsp-titanic.git - dsp-titanic - extract.ipynb - elements/extract - writing test\n"
     ]
    }
   ],
   "source": [
    "train.write('train')\n",
    "dlf.data.write(test, 'test')"
   ]
  },
  {
   "cell_type": "markdown",
   "metadata": {},
   "source": [
    "### Metrics on Raw Data "
   ]
  },
  {
   "cell_type": "markdown",
   "metadata": {},
   "source": [
    " A table with all the dataset being read\n",
    " \n",
    " - Number of Entries\n",
    " - Null Values\n",
    " - Type Purity"
   ]
  },
  {
   "cell_type": "code",
   "execution_count": 20,
   "metadata": {},
   "outputs": [],
   "source": [
    "pd = dlf.engines.get(\"pandas\").context()"
   ]
  },
  {
   "cell_type": "code",
   "execution_count": 23,
   "metadata": {},
   "outputs": [],
   "source": [
    "index = ['train', 'test']\n",
    "data  = [train.data.isnull().sum(), test.data.isnull().sum()]\n",
    "metrics = pd.DataFrame(data, index, dtype='Int64')\n",
    "\n",
    "metrics['_total'] = [train.data.shape[0], test.data.shape[0]]"
   ]
  },
  {
   "cell_type": "code",
   "execution_count": 24,
   "metadata": {},
   "outputs": [
    {
     "data": {
      "text/html": [
       "<div>\n",
       "<style>\n",
       "    .dataframe thead tr:only-child th {\n",
       "        text-align: right;\n",
       "    }\n",
       "\n",
       "    .dataframe thead th {\n",
       "        text-align: left;\n",
       "    }\n",
       "\n",
       "    .dataframe tbody tr th {\n",
       "        vertical-align: top;\n",
       "    }\n",
       "</style>\n",
       "<table border=\"1\" class=\"dataframe\">\n",
       "  <thead>\n",
       "    <tr style=\"text-align: right;\">\n",
       "      <th></th>\n",
       "      <th>Age</th>\n",
       "      <th>Cabin</th>\n",
       "      <th>Embarked</th>\n",
       "      <th>Fare</th>\n",
       "      <th>Name</th>\n",
       "      <th>Parch</th>\n",
       "      <th>PassengerId</th>\n",
       "      <th>Pclass</th>\n",
       "      <th>Sex</th>\n",
       "      <th>SibSp</th>\n",
       "      <th>Survived</th>\n",
       "      <th>Ticket</th>\n",
       "      <th>_total</th>\n",
       "    </tr>\n",
       "  </thead>\n",
       "  <tbody>\n",
       "    <tr>\n",
       "      <th>train</th>\n",
       "      <td>177</td>\n",
       "      <td>687</td>\n",
       "      <td>2</td>\n",
       "      <td>0</td>\n",
       "      <td>0</td>\n",
       "      <td>0</td>\n",
       "      <td>0</td>\n",
       "      <td>0</td>\n",
       "      <td>0</td>\n",
       "      <td>0</td>\n",
       "      <td>0.0</td>\n",
       "      <td>0</td>\n",
       "      <td>891</td>\n",
       "    </tr>\n",
       "    <tr>\n",
       "      <th>test</th>\n",
       "      <td>86</td>\n",
       "      <td>327</td>\n",
       "      <td>0</td>\n",
       "      <td>1</td>\n",
       "      <td>0</td>\n",
       "      <td>0</td>\n",
       "      <td>0</td>\n",
       "      <td>0</td>\n",
       "      <td>0</td>\n",
       "      <td>0</td>\n",
       "      <td>NaN</td>\n",
       "      <td>0</td>\n",
       "      <td>418</td>\n",
       "    </tr>\n",
       "  </tbody>\n",
       "</table>\n",
       "</div>"
      ],
      "text/plain": [
       "       Age  Cabin  Embarked  Fare  Name  Parch  PassengerId  Pclass  Sex  \\\n",
       "train  177    687         2     0     0      0            0       0    0   \n",
       "test    86    327         0     1     0      0            0       0    0   \n",
       "\n",
       "       SibSp  Survived  Ticket  _total  \n",
       "train      0       0.0       0     891  \n",
       "test       0       NaN       0     418  "
      ]
     },
     "execution_count": 24,
     "metadata": {},
     "output_type": "execute_result"
    }
   ],
   "source": [
    "# display the metrics on null fields\n",
    "metrics"
   ]
  },
  {
   "cell_type": "code",
   "execution_count": 26,
   "metadata": {},
   "outputs": [],
   "source": [
    "index = ['train', 'test']\n",
    "data  = [train.data.dtypes, test.data.dtypes]\n",
    "schema = pd.DataFrame(data, index)\n",
    "\n",
    "schema['_total'] = [train.data.shape[0], test.data.shape[0]]"
   ]
  },
  {
   "cell_type": "code",
   "execution_count": 27,
   "metadata": {},
   "outputs": [
    {
     "data": {
      "text/html": [
       "<div>\n",
       "<style>\n",
       "    .dataframe thead tr:only-child th {\n",
       "        text-align: right;\n",
       "    }\n",
       "\n",
       "    .dataframe thead th {\n",
       "        text-align: left;\n",
       "    }\n",
       "\n",
       "    .dataframe tbody tr th {\n",
       "        vertical-align: top;\n",
       "    }\n",
       "</style>\n",
       "<table border=\"1\" class=\"dataframe\">\n",
       "  <thead>\n",
       "    <tr style=\"text-align: right;\">\n",
       "      <th></th>\n",
       "      <th>Age</th>\n",
       "      <th>Cabin</th>\n",
       "      <th>Embarked</th>\n",
       "      <th>Fare</th>\n",
       "      <th>Name</th>\n",
       "      <th>Parch</th>\n",
       "      <th>PassengerId</th>\n",
       "      <th>Pclass</th>\n",
       "      <th>Sex</th>\n",
       "      <th>SibSp</th>\n",
       "      <th>Survived</th>\n",
       "      <th>Ticket</th>\n",
       "      <th>_total</th>\n",
       "    </tr>\n",
       "  </thead>\n",
       "  <tbody>\n",
       "    <tr>\n",
       "      <th>train</th>\n",
       "      <td>float64</td>\n",
       "      <td>object</td>\n",
       "      <td>object</td>\n",
       "      <td>float64</td>\n",
       "      <td>object</td>\n",
       "      <td>int64</td>\n",
       "      <td>int64</td>\n",
       "      <td>int64</td>\n",
       "      <td>object</td>\n",
       "      <td>int64</td>\n",
       "      <td>int64</td>\n",
       "      <td>object</td>\n",
       "      <td>891</td>\n",
       "    </tr>\n",
       "    <tr>\n",
       "      <th>test</th>\n",
       "      <td>float64</td>\n",
       "      <td>object</td>\n",
       "      <td>object</td>\n",
       "      <td>float64</td>\n",
       "      <td>object</td>\n",
       "      <td>int64</td>\n",
       "      <td>int64</td>\n",
       "      <td>int64</td>\n",
       "      <td>object</td>\n",
       "      <td>int64</td>\n",
       "      <td>NaN</td>\n",
       "      <td>object</td>\n",
       "      <td>418</td>\n",
       "    </tr>\n",
       "  </tbody>\n",
       "</table>\n",
       "</div>"
      ],
      "text/plain": [
       "           Age   Cabin Embarked     Fare    Name  Parch PassengerId Pclass  \\\n",
       "train  float64  object   object  float64  object  int64       int64  int64   \n",
       "test   float64  object   object  float64  object  int64       int64  int64   \n",
       "\n",
       "          Sex  SibSp Survived  Ticket  _total  \n",
       "train  object  int64    int64  object     891  \n",
       "test   object  int64      NaN  object     418  "
      ]
     },
     "execution_count": 27,
     "metadata": {},
     "output_type": "execute_result"
    }
   ],
   "source": [
    "# display the extracted schema for each attribute\n",
    "schema"
   ]
  },
  {
   "cell_type": "markdown",
   "metadata": {},
   "source": [
    "coerce (to be done)"
   ]
  },
  {
   "cell_type": "markdown",
   "metadata": {},
   "source": [
    "### High Level summary metrics"
   ]
  },
  {
   "cell_type": "markdown",
   "metadata": {},
   "source": [
    "This metrics are independent on the columns names and the number of columns"
   ]
  },
  {
   "cell_type": "code",
   "execution_count": 29,
   "metadata": {},
   "outputs": [
    {
     "data": {
      "text/plain": [
       "1"
      ]
     },
     "execution_count": 29,
     "metadata": {},
     "output_type": "execute_result"
    }
   ],
   "source": [
    "data = [train.data.dtypes.values, test.data.dtypes.values]\n",
    "df  =  pd.DataFrame(data)\n",
    "\n",
    "from collections import Counter\n",
    "l = [item for sb in df.values.tolist() for item in sb]\n",
    "d = dict(Counter(l))\n",
    "\n",
    "#missing column between 'train' and 'test'\n",
    "d[None]"
   ]
  },
  {
   "cell_type": "markdown",
   "metadata": {},
   "source": [
    "#### For each data set\n",
    "Collect shape, number of zero, Null, NaN elements, types"
   ]
  },
  {
   "cell_type": "code",
   "execution_count": 30,
   "metadata": {},
   "outputs": [
    {
     "name": "stdout",
     "output_type": "stream",
     "text": [
      "2018-02-28 18:25:03,437 - INFO - natbusa - 1384df7 - natbusa - natalino.busa@gmail.com - 1519787735 - True - https://github.com/natbusa/dsp-titanic.git - dsp-titanic - extract.ipynb - elements/extract - Reading .elements.raw.train\n",
      "2018-02-28 18:25:03,445 - INFO - natbusa - 1384df7 - natbusa - natalino.busa@gmail.com - 1519787735 - True - https://github.com/natbusa/dsp-titanic.git - dsp-titanic - extract.ipynb - elements/extract - {'data': {'id': '.elements.raw.train', 'shape': {'rows': 891, 'cols': 12}, 'values': {'zero': 1850, 'empty': 0, 'none': 0, 'null': 866}, 'types': {'<i8': 5, '|O': 5, '<f8': 2}}, 'type': 'dataset', 'task': 'stats'}\n",
      "2018-02-28 18:25:03,527 - INFO - natbusa - 1384df7 - natbusa - natalino.busa@gmail.com - 1519787735 - True - https://github.com/natbusa/dsp-titanic.git - dsp-titanic - extract.ipynb - elements/extract - Reading .elements.raw.test\n",
      "2018-02-28 18:25:03,534 - INFO - natbusa - 1384df7 - natbusa - natalino.busa@gmail.com - 1519787735 - True - https://github.com/natbusa/dsp-titanic.git - dsp-titanic - extract.ipynb - elements/extract - {'data': {'id': '.elements.raw.test', 'shape': {'rows': 418, 'cols': 11}, 'values': {'zero': 609, 'empty': 0, 'none': 0, 'null': 414}, 'types': {'|O': 5, '<i8': 4, '<f8': 2}}, 'type': 'dataset', 'task': 'stats'}\n",
      "2018-03-01 10:31:58,257 - INFO - natbusa - 1384df7 - natbusa - natalino.busa@gmail.com - 1519787735 - True - https://github.com/natbusa/dsp-titanic.git - dsp-titanic - extract.ipynb - elements/extract - Closing idle connection 1, last active 57334068 ms ago\n",
      "2018-03-01 10:31:58,258 - INFO - natbusa - 1384df7 - natbusa - natalino.busa@gmail.com - 1519787735 - True - https://github.com/natbusa/dsp-titanic.git - dsp-titanic - extract.ipynb - elements/extract - <BrokerConnection node_id=1 host=localhost/127.0.0.1 port=29092>: Closing connection. \n",
      "2018-03-01 10:31:58,259 - INFO - natbusa - 1384df7 - natbusa - natalino.busa@gmail.com - 1519787735 - True - https://github.com/natbusa/dsp-titanic.git - dsp-titanic - extract.ipynb - elements/extract - Broker metadata change detected for node 1 from 127.0.0.1:29092 to localhost:29092\n",
      "2018-03-01 10:31:58,260 - INFO - natbusa - 1384df7 - natbusa - natalino.busa@gmail.com - 1519787735 - True - https://github.com/natbusa/dsp-titanic.git - dsp-titanic - extract.ipynb - elements/extract - <BrokerConnection node_id=1 host=localhost/127.0.0.1 port=29092>: connecting to 127.0.0.1:29092\n"
     ]
    }
   ],
   "source": [
    "datasets =  ['.elements.raw.train', '.elements.raw.test']\n",
    "for e in datasets:\n",
    "    dlf.data.stats(e)"
   ]
  },
  {
   "cell_type": "code",
   "execution_count": null,
   "metadata": {},
   "outputs": [],
   "source": []
  }
 ],
 "metadata": {
  "kernelspec": {
   "display_name": "Python 3",
   "language": "python",
   "name": "python3"
  },
  "language_info": {
   "codemirror_mode": {
    "name": "ipython",
    "version": 3
   },
   "file_extension": ".py",
   "mimetype": "text/x-python",
   "name": "python",
   "nbconvert_exporter": "python",
   "pygments_lexer": "ipython3",
   "version": "3.6.3"
  }
 },
 "nbformat": 4,
 "nbformat_minor": 2
}
