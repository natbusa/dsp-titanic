{
 "cells": [
  {
   "cell_type": "code",
   "execution_count": 2,
   "metadata": {},
   "outputs": [],
   "source": [
    "import datalabframework as dlf"
   ]
  },
  {
   "cell_type": "code",
   "execution_count": 3,
   "metadata": {},
   "outputs": [
    {
     "name": "stdout",
     "output_type": "stream",
     "text": [
      " --packages org.xerial:sqlite-jdbc:3.23.1,mysql:mysql-connector-java:8.0.12 pyspark-shell\n"
     ]
    }
   ],
   "source": [
    "engine = dlf.engines.get('spark')\n",
    "spark = engine.context()"
   ]
  },
  {
   "cell_type": "code",
   "execution_count": 4,
   "metadata": {},
   "outputs": [
    {
     "name": "stdout",
     "output_type": "stream",
     "text": [
      "jdbc:mysql://localhost:3306/mydatabase\n",
      "+----+-------+\n",
      "|name|address|\n",
      "+----+-------+\n",
      "|John|   ohoh|\n",
      "+----+-------+\n",
      "\n"
     ]
    }
   ],
   "source": [
    "df_source = engine.read('.customers')\n",
    "df_source.show()"
   ]
  },
  {
   "cell_type": "code",
   "execution_count": 5,
   "metadata": {},
   "outputs": [
    {
     "name": "stdout",
     "output_type": "stream",
     "text": [
      "+----+-------+\n",
      "|name|address|\n",
      "+----+-------+\n",
      "|John|   ohoh|\n",
      "+----+-------+\n",
      "\n"
     ]
    }
   ],
   "source": [
    "from pyspark.sql.functions import lit\n",
    "df = df_source.withColumn('address', lit('ohoh'))\n",
    "df.show()"
   ]
  },
  {
   "cell_type": "code",
   "execution_count": 6,
   "metadata": {},
   "outputs": [
    {
     "name": "stdout",
     "output_type": "stream",
     "text": [
      "+----+-------+\n",
      "|name|address|\n",
      "+----+-------+\n",
      "|John|   ohoh|\n",
      "+----+-------+\n",
      "\n"
     ]
    }
   ],
   "source": [
    "engine.write(df, '.customers', mode='overwrite')\n",
    "df.show()"
   ]
  },
  {
   "cell_type": "code",
   "execution_count": 7,
   "metadata": {},
   "outputs": [
    {
     "name": "stdout",
     "output_type": "stream",
     "text": [
      "jdbc:mysql://localhost:3306/mydatabase\n",
      "+----+-------+\n",
      "|name|address|\n",
      "+----+-------+\n",
      "|John|   ohoh|\n",
      "+----+-------+\n",
      "\n"
     ]
    }
   ],
   "source": [
    "df_result = engine.read('.customers')\n",
    "df_result.show()"
   ]
  },
  {
   "cell_type": "code",
   "execution_count": 18,
   "metadata": {},
   "outputs": [
    {
     "name": "stdout",
     "output_type": "stream",
     "text": [
      "+-------+----+-------+-----------+-------+--------------------+------------+--------+---------+\n",
      "|TrackId|Name|AlbumId|MediaTypeId|GenreId|            Composer|Milliseconds|   Bytes|UnitPrice|\n",
      "+-------+----+-------+-----------+-------+--------------------+------------+--------+---------+\n",
      "|      1| ooh|      1|          1|      1|Angus Young, Malc...|      343719|11170334|     0.99|\n",
      "|      2| ooh|      2|          2|      1|                null|      342562| 5510424|     0.99|\n",
      "|      3| ooh|      3|          2|      1|F. Baltes, S. Kau...|      230619| 3990994|     0.99|\n",
      "|      4| ooh|      3|          2|      1|F. Baltes, R.A. S...|      252051| 4331779|     0.99|\n",
      "|      5| ooh|      3|          2|      1|Deaffy & R.A. Smi...|      375418| 6290521|     0.99|\n",
      "|      6| ooh|      1|          1|      1|Angus Young, Malc...|      205662| 6713451|     0.99|\n",
      "|      7| ooh|      1|          1|      1|Angus Young, Malc...|      233926| 7636561|     0.99|\n",
      "|      8| ooh|      1|          1|      1|Angus Young, Malc...|      210834| 6852860|     0.99|\n",
      "|      9| ooh|      1|          1|      1|Angus Young, Malc...|      203102| 6599424|     0.99|\n",
      "|     10| ooh|      1|          1|      1|Angus Young, Malc...|      263497| 8611245|     0.99|\n",
      "|     11| ooh|      1|          1|      1|Angus Young, Malc...|      199836| 6566314|     0.99|\n",
      "|     12| ooh|      1|          1|      1|Angus Young, Malc...|      263288| 8596840|     0.99|\n",
      "|     13| ooh|      1|          1|      1|Angus Young, Malc...|      205688| 6706347|     0.99|\n",
      "|     14| ooh|      1|          1|      1|Angus Young, Malc...|      270863| 8817038|     0.99|\n",
      "|     15| ooh|      4|          1|      1|               AC/DC|      331180|10847611|     0.99|\n",
      "|     16| ooh|      4|          1|      1|               AC/DC|      215196| 7032162|     0.99|\n",
      "|     17| ooh|      4|          1|      1|               AC/DC|      366654|12021261|     0.99|\n",
      "|     18| ooh|      4|          1|      1|               AC/DC|      267728| 8776140|     0.99|\n",
      "|     19| ooh|      4|          1|      1|               AC/DC|      325041|10617116|     0.99|\n",
      "|     20| ooh|      4|          1|      1|               AC/DC|      369319|12066294|     0.99|\n",
      "+-------+----+-------+-----------+-------+--------------------+------------+--------+---------+\n",
      "only showing top 20 rows\n",
      "\n"
     ]
    }
   ],
   "source": [
    "df_source = engine.read('.music')\n",
    "df_source.show()"
   ]
  },
  {
   "cell_type": "code",
   "execution_count": 15,
   "metadata": {},
   "outputs": [
    {
     "name": "stdout",
     "output_type": "stream",
     "text": [
      "+-------+----+-------+-----------+-------+--------------------+------------+--------+---------+\n",
      "|TrackId|Name|AlbumId|MediaTypeId|GenreId|            Composer|Milliseconds|   Bytes|UnitPrice|\n",
      "+-------+----+-------+-----------+-------+--------------------+------------+--------+---------+\n",
      "|      1| ooh|      1|          1|      1|Angus Young, Malc...|      343719|11170334|     0.99|\n",
      "|      2| ooh|      2|          2|      1|                null|      342562| 5510424|     0.99|\n",
      "|      3| ooh|      3|          2|      1|F. Baltes, S. Kau...|      230619| 3990994|     0.99|\n",
      "|      4| ooh|      3|          2|      1|F. Baltes, R.A. S...|      252051| 4331779|     0.99|\n",
      "|      5| ooh|      3|          2|      1|Deaffy & R.A. Smi...|      375418| 6290521|     0.99|\n",
      "|      6| ooh|      1|          1|      1|Angus Young, Malc...|      205662| 6713451|     0.99|\n",
      "|      7| ooh|      1|          1|      1|Angus Young, Malc...|      233926| 7636561|     0.99|\n",
      "|      8| ooh|      1|          1|      1|Angus Young, Malc...|      210834| 6852860|     0.99|\n",
      "|      9| ooh|      1|          1|      1|Angus Young, Malc...|      203102| 6599424|     0.99|\n",
      "|     10| ooh|      1|          1|      1|Angus Young, Malc...|      263497| 8611245|     0.99|\n",
      "|     11| ooh|      1|          1|      1|Angus Young, Malc...|      199836| 6566314|     0.99|\n",
      "|     12| ooh|      1|          1|      1|Angus Young, Malc...|      263288| 8596840|     0.99|\n",
      "|     13| ooh|      1|          1|      1|Angus Young, Malc...|      205688| 6706347|     0.99|\n",
      "|     14| ooh|      1|          1|      1|Angus Young, Malc...|      270863| 8817038|     0.99|\n",
      "|     15| ooh|      4|          1|      1|               AC/DC|      331180|10847611|     0.99|\n",
      "|     16| ooh|      4|          1|      1|               AC/DC|      215196| 7032162|     0.99|\n",
      "|     17| ooh|      4|          1|      1|               AC/DC|      366654|12021261|     0.99|\n",
      "|     18| ooh|      4|          1|      1|               AC/DC|      267728| 8776140|     0.99|\n",
      "|     19| ooh|      4|          1|      1|               AC/DC|      325041|10617116|     0.99|\n",
      "|     20| ooh|      4|          1|      1|               AC/DC|      369319|12066294|     0.99|\n",
      "+-------+----+-------+-----------+-------+--------------------+------------+--------+---------+\n",
      "only showing top 20 rows\n",
      "\n"
     ]
    }
   ],
   "source": [
    "from pyspark.sql.functions import lit\n",
    "df = df_source.withColumn('Name', lit('ooh'))\n",
    "df.show()"
   ]
  },
  {
   "cell_type": "code",
   "execution_count": 16,
   "metadata": {},
   "outputs": [
    {
     "name": "stdout",
     "output_type": "stream",
     "text": [
      "+-------+----+-------+-----------+-------+--------------------+------------+--------+---------+\n",
      "|TrackId|Name|AlbumId|MediaTypeId|GenreId|            Composer|Milliseconds|   Bytes|UnitPrice|\n",
      "+-------+----+-------+-----------+-------+--------------------+------------+--------+---------+\n",
      "|      1| ooh|      1|          1|      1|Angus Young, Malc...|      343719|11170334|     0.99|\n",
      "|      2| ooh|      2|          2|      1|                null|      342562| 5510424|     0.99|\n",
      "|      3| ooh|      3|          2|      1|F. Baltes, S. Kau...|      230619| 3990994|     0.99|\n",
      "|      4| ooh|      3|          2|      1|F. Baltes, R.A. S...|      252051| 4331779|     0.99|\n",
      "|      5| ooh|      3|          2|      1|Deaffy & R.A. Smi...|      375418| 6290521|     0.99|\n",
      "|      6| ooh|      1|          1|      1|Angus Young, Malc...|      205662| 6713451|     0.99|\n",
      "|      7| ooh|      1|          1|      1|Angus Young, Malc...|      233926| 7636561|     0.99|\n",
      "|      8| ooh|      1|          1|      1|Angus Young, Malc...|      210834| 6852860|     0.99|\n",
      "|      9| ooh|      1|          1|      1|Angus Young, Malc...|      203102| 6599424|     0.99|\n",
      "|     10| ooh|      1|          1|      1|Angus Young, Malc...|      263497| 8611245|     0.99|\n",
      "|     11| ooh|      1|          1|      1|Angus Young, Malc...|      199836| 6566314|     0.99|\n",
      "|     12| ooh|      1|          1|      1|Angus Young, Malc...|      263288| 8596840|     0.99|\n",
      "|     13| ooh|      1|          1|      1|Angus Young, Malc...|      205688| 6706347|     0.99|\n",
      "|     14| ooh|      1|          1|      1|Angus Young, Malc...|      270863| 8817038|     0.99|\n",
      "|     15| ooh|      4|          1|      1|               AC/DC|      331180|10847611|     0.99|\n",
      "|     16| ooh|      4|          1|      1|               AC/DC|      215196| 7032162|     0.99|\n",
      "|     17| ooh|      4|          1|      1|               AC/DC|      366654|12021261|     0.99|\n",
      "|     18| ooh|      4|          1|      1|               AC/DC|      267728| 8776140|     0.99|\n",
      "|     19| ooh|      4|          1|      1|               AC/DC|      325041|10617116|     0.99|\n",
      "|     20| ooh|      4|          1|      1|               AC/DC|      369319|12066294|     0.99|\n",
      "+-------+----+-------+-----------+-------+--------------------+------------+--------+---------+\n",
      "only showing top 20 rows\n",
      "\n"
     ]
    }
   ],
   "source": [
    "engine.write(df, '.music', mode='overwrite')\n",
    "df.show()"
   ]
  },
  {
   "cell_type": "code",
   "execution_count": 17,
   "metadata": {},
   "outputs": [
    {
     "name": "stdout",
     "output_type": "stream",
     "text": [
      "+---+---+\n",
      "|_c0|_c1|\n",
      "+---+---+\n",
      "|  1|ooh|\n",
      "|  2|ooh|\n",
      "|  3|ooh|\n",
      "|  4|ooh|\n",
      "|  5|ooh|\n",
      "|  6|ooh|\n",
      "|  7|ooh|\n",
      "|  8|ooh|\n",
      "|  9|ooh|\n",
      "| 10|ooh|\n",
      "| 11|ooh|\n",
      "| 12|ooh|\n",
      "| 13|ooh|\n",
      "| 14|ooh|\n",
      "| 15|ooh|\n",
      "| 16|ooh|\n",
      "| 17|ooh|\n",
      "| 18|ooh|\n",
      "| 19|ooh|\n",
      "| 20|ooh|\n",
      "+---+---+\n",
      "only showing top 20 rows\n",
      "\n"
     ]
    }
   ],
   "source": [
    "df_output = engine.read('.output')\n",
    "df_output.show()"
   ]
  },
  {
   "cell_type": "code",
   "execution_count": null,
   "metadata": {},
   "outputs": [],
   "source": []
  }
 ],
 "metadata": {
  "kernelspec": {
   "display_name": "Python 3",
   "language": "python",
   "name": "python3"
  },
  "language_info": {
   "codemirror_mode": {
    "name": "ipython",
    "version": 3
   },
   "file_extension": ".py",
   "mimetype": "text/x-python",
   "name": "python",
   "nbconvert_exporter": "python",
   "pygments_lexer": "ipython3",
   "version": "3.6.6"
  }
 },
 "nbformat": 4,
 "nbformat_minor": 2
}
