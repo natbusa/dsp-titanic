{
 "cells": [
  {
   "cell_type": "markdown",
   "metadata": {},
   "source": [
    "# Titanic"
   ]
  },
  {
   "cell_type": "markdown",
   "metadata": {},
   "source": [
    "This data science project is about setting good practices while building data science models. For this particular example, we are going to use the titanic dataset, and work both with pandas and spark.\n",
    "\n",
    "## References ##  \n",
    "\n",
    "For a more detailed overview about the project template and the datalabframework package, please refer to the notebooks in the [how to directory](publish/reports/howto/howto.ipynb).\n",
    "\n",
    "  - [ETL](etl/main.ipynb)\n",
    "  - [Models](ml/main.ipnb)\n",
    "  - [Reports](publish/reports/main.ipynb)\n",
    "  \n",
    "## Data ##\n",
    "\n",
    "The Titanic dataset is provided by Kaggle."
   ]
  },
  {
   "cell_type": "code",
   "execution_count": 1,
   "metadata": {},
   "outputs": [
    {
     "name": "stdout",
     "output_type": "stream",
     "text": [
      "{\n",
      "  \"logging\": {\n",
      "    \"severity\": \"info\",\n",
      "    \"handlers\": {\n",
      "      \"stream\": {\n",
      "        \"enable\": true,\n",
      "        \"severity\": \"info\"\n",
      "      },\n",
      "      \"kafka\": {\n",
      "        \"enable\": false,\n",
      "        \"severity\": \"info\",\n",
      "        \"topic\": \"dlf\",\n",
      "        \"hosts\": [\n",
      "          \"localhost:29092\"\n",
      "        ]\n",
      "      }\n",
      "    }\n",
      "  },\n",
      "  \"execution\": {\n",
      "    \"engines\": {\n",
      "      \"spark\": {\n",
      "        \"context\": \"spark\",\n",
      "        \"config\": {\n",
      "          \"master\": \"local[4]\",\n",
      "          \"jobname\": \"test\"\n",
      "        }\n",
      "      },\n",
      "      \"pandas\": {\n",
      "        \"context\": \"pandas\"\n",
      "      },\n",
      "      \"numpy\": {\n",
      "        \"context\": \"numpy\"\n",
      "      }\n",
      "    }\n",
      "  },\n",
      "  \"data\": {\n",
      "    \"resources\": {\n",
      "      \".etl.raw.test\": {\n",
      "        \"path\": \"raw/test.csv\",\n",
      "        \"format\": \"csv\",\n",
      "        \"provider\": \"local\"\n",
      "      },\n",
      "      \".elements.extract.train\": {\n",
      "        \"path\": \"extract/data.hdf\",\n",
      "        \"format\": \"hdf\",\n",
      "        \"provider\": \"local\"\n",
      "      },\n",
      "      \".elements.raw.train\": {\n",
      "        \"path\": \"raw/train.csv\",\n",
      "        \"format\": \"csv\",\n",
      "        \"provider\": \"local\"\n",
      "      },\n",
      "      \".etl.raw.train\": {\n",
      "        \"path\": \"raw/train.csv\",\n",
      "        \"format\": \"csv\",\n",
      "        \"provider\": \"local\"\n",
      "      },\n",
      "      \".elements.raw.test\": {\n",
      "        \"path\": \"raw/test.csv\",\n",
      "        \"format\": \"csv\",\n",
      "        \"provider\": \"local\"\n",
      "      },\n",
      "      \".elements.extract.test\": {\n",
      "        \"path\": \"extract/data.hdf\",\n",
      "        \"format\": \"hdf\",\n",
      "        \"provider\": \"local\"\n",
      "      },\n",
      "      \".bla\": {\n",
      "        \"oh\": \"la la\"\n",
      "      }\n",
      "    },\n",
      "    \"providers\": {\n",
      "      \"local\": {\n",
      "        \"service\": \"fs\",\n",
      "        \"rootpath\": \"data\"\n",
      "      }\n",
      "    }\n",
      "  }\n",
      "}\n"
     ]
    }
   ],
   "source": [
    "import json\n",
    "import datalabframework as dlf\n",
    "\n",
    "metadata = dlf.params.metadata()\n",
    "print(json.dumps(metadata, indent=2))"
   ]
  },
  {
   "cell_type": "code",
   "execution_count": null,
   "metadata": {},
   "outputs": [],
   "source": []
  },
  {
   "cell_type": "code",
   "execution_count": null,
   "metadata": {},
   "outputs": [],
   "source": []
  }
 ],
 "metadata": {
  "kernelspec": {
   "display_name": "Python 3",
   "language": "python",
   "name": "python3"
  },
  "language_info": {
   "codemirror_mode": {
    "name": "ipython",
    "version": 3
   },
   "file_extension": ".py",
   "mimetype": "text/x-python",
   "name": "python",
   "nbconvert_exporter": "python",
   "pygments_lexer": "ipython3",
   "version": "3.6.5"
  }
 },
 "nbformat": 4,
 "nbformat_minor": 2
}
