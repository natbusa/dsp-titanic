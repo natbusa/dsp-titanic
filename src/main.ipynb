{
 "cells": [
  {
   "cell_type": "markdown",
   "metadata": {},
   "source": [
    "# Titanic"
   ]
  },
  {
   "cell_type": "markdown",
   "metadata": {},
   "source": [
    "This data science project is about setting good practices while building data science models. For this particular example, we are going to use the titanic dataset, and work both with pandas and spark.\n",
    "\n",
    "## References ##  \n",
    "\n",
    "For a more detailed overview about the project template and the datalabframework package, please refer to the notebooks in the [how to directory](publish/reports/howto/howto.ipynb).\n",
    "\n",
    "  - [ETL](etl/main.ipynb)\n",
    "  - [Models](ml/main.ipnb)\n",
    "  - [Reports](publish/reports/main.ipynb)\n",
    "  \n",
    "## Data ##\n",
    "\n",
    "The Titanic dataset is provided by Kaggle."
   ]
  }
 ],
 "metadata": {
  "kernelspec": {
   "display_name": "Python 3",
   "language": "python",
   "name": "python3"
  },
  "language_info": {
   "codemirror_mode": {
    "name": "ipython",
    "version": 3
   },
   "file_extension": ".py",
   "mimetype": "text/x-python",
   "name": "python",
   "nbconvert_exporter": "python",
   "pygments_lexer": "ipython3",
   "version": "3.6.5"
  }
 },
 "nbformat": 4,
 "nbformat_minor": 2
}
