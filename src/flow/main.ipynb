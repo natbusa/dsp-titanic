{
 "cells": [
  {
   "cell_type": "markdown",
   "metadata": {},
   "source": [
    "# ETL flow"
   ]
  },
  {
   "cell_type": "code",
   "execution_count": 1,
   "metadata": {},
   "outputs": [
    {
     "name": "stdout",
     "output_type": "stream",
     "text": [
      "Executing a datalabframework notebook\n",
      "\n",
      "Options\n",
      "-------\n",
      "\n",
      "Arguments that take values are actually convenience aliases to full\n",
      "Configurables, whose aliases are listed on the help line. For more information\n",
      "on full configurables, see '--help-all'.\n",
      "\n",
      "--debug\n",
      "    Set loglevel to DEBUG\n",
      "--timeout=<Int> (ExecutePreprocessor.timeout)\n",
      "    Default: 30\n",
      "    The time to wait (in seconds) for output from executions. If a cell\n",
      "    execution takes longer, an exception (TimeoutError on python 3+,\n",
      "    RuntimeError on python 2) is raised.\n",
      "    `None` or `-1` will disable the timeout. If `timeout_func` is set, it\n",
      "    overrides `timeout`.\n",
      "--log_level=<Enum> (DlfRunApp.log_level)\n",
      "    Default: 30\n",
      "    Choices: (0, 10, 20, 30, 40, 50, 'DEBUG', 'INFO', 'WARN', 'ERROR', 'CRITICAL')\n",
      "    Set the log level by value or name.\n",
      "\n",
      "To see all available configurables, use `--help-all`\n",
      "\n"
     ]
    }
   ],
   "source": [
    "!datalabframework run --help"
   ]
  },
  {
   "cell_type": "code",
   "execution_count": 1,
   "metadata": {},
   "outputs": [
    {
     "data": {
      "text/plain": [
       "'/home/natbusa/Projects/dsp-titanic/src'"
      ]
     },
     "execution_count": 1,
     "metadata": {},
     "output_type": "execute_result"
    }
   ],
   "source": [
    "import os.path\n",
    "\n",
    "import datalabframework as dlf\n",
    "dlf.project.rootpath()"
   ]
  },
  {
   "cell_type": "code",
   "execution_count": 2,
   "metadata": {},
   "outputs": [],
   "source": [
    "flow = [\n",
    "    'etl/extract/extract.ipynb',\n",
    "    'etl/clean/clean.ipynb',\n",
    "    'etl/features/features.ipynb',\n",
    "    'etl/models/lr/train.ipynb',\n",
    "    'etl/models/lr/score.ipynb',\n",
    "]"
   ]
  },
  {
   "cell_type": "code",
   "execution_count": 4,
   "metadata": {},
   "outputs": [
    {
     "name": "stdout",
     "output_type": "stream",
     "text": [
      "2018-09-18 16:08:26 WARN  Utils:66 - Your hostname, xino resolves to a loopback address: 127.0.1.1; using 10.196.160.215 instead (on interface wlp2s0)\n",
      "2018-09-18 16:08:26 WARN  Utils:66 - Set SPARK_LOCAL_IP if you need to bind to another address\n",
      "2018-09-18 16:08:26 WARN  NativeCodeLoader:62 - Unable to load native-hadoop library for your platform... using builtin-java classes where applicable\n",
      "Setting default log level to \"WARN\".\n",
      "To adjust logging level use sc.setLogLevel(newLevel). For SparkR, use setLogLevel(newLevel).\n",
      "2018-09-18 16:08:27 WARN  Utils:66 - Service 'SparkUI' could not bind on port 4040. Attempting port 4041.\n",
      "2018-09-18 16:08:27 WARN  Utils:66 - Service 'SparkUI' could not bind on port 4041. Attempting port 4042.\n",
      "2018-09-18 16:08:27 WARN  Utils:66 - Service 'SparkUI' could not bind on port 4042. Attempting port 4043.\n",
      "2018-09-18 16:08:27 WARN  Utils:66 - Service 'SparkUI' could not bind on port 4043. Attempting port 4044.\n",
      "2018-09-18 16:08:35 WARN  BLAS:61 - Failed to load implementation from: com.github.fommil.netlib.NativeSystemBLAS\n",
      "2018-09-18 16:08:35 WARN  BLAS:61 - Failed to load implementation from: com.github.fommil.netlib.NativeRefBLAS\n",
      "2018-09-18 16:08:42 WARN  Utils:66 - Your hostname, xino resolves to a loopback address: 127.0.1.1; using 10.196.160.215 instead (on interface wlp2s0)\n",
      "2018-09-18 16:08:43 WARN  Utils:66 - Set SPARK_LOCAL_IP if you need to bind to another address\n",
      "2018-09-18 16:08:43 WARN  NativeCodeLoader:62 - Unable to load native-hadoop library for your platform... using builtin-java classes where applicable\n",
      "Setting default log level to \"WARN\".\n",
      "To adjust logging level use sc.setLogLevel(newLevel). For SparkR, use setLogLevel(newLevel).\n",
      "2018-09-18 16:08:44 WARN  Utils:66 - Service 'SparkUI' could not bind on port 4040. Attempting port 4041.\n",
      "2018-09-18 16:08:44 WARN  Utils:66 - Service 'SparkUI' could not bind on port 4041. Attempting port 4042.\n",
      "2018-09-18 16:08:44 WARN  Utils:66 - Service 'SparkUI' could not bind on port 4042. Attempting port 4043.\n",
      "2018-09-18 16:08:44 WARN  Utils:66 - Service 'SparkUI' could not bind on port 4043. Attempting port 4044.\n",
      "2018-09-18 16:08:59 WARN  Utils:66 - Your hostname, xino resolves to a loopback address: 127.0.1.1; using 10.196.160.215 instead (on interface wlp2s0)\n",
      "2018-09-18 16:08:59 WARN  Utils:66 - Set SPARK_LOCAL_IP if you need to bind to another address\n",
      "2018-09-18 16:09:00 WARN  NativeCodeLoader:62 - Unable to load native-hadoop library for your platform... using builtin-java classes where applicable\n",
      "Setting default log level to \"WARN\".\n",
      "To adjust logging level use sc.setLogLevel(newLevel). For SparkR, use setLogLevel(newLevel).\n",
      "2018-09-18 16:09:00 WARN  Utils:66 - Service 'SparkUI' could not bind on port 4040. Attempting port 4041.\n",
      "2018-09-18 16:09:00 WARN  Utils:66 - Service 'SparkUI' could not bind on port 4041. Attempting port 4042.\n",
      "2018-09-18 16:09:00 WARN  Utils:66 - Service 'SparkUI' could not bind on port 4042. Attempting port 4043.\n",
      "2018-09-18 16:09:00 WARN  Utils:66 - Service 'SparkUI' could not bind on port 4043. Attempting port 4044.\n",
      "2018-09-18 16:09:05 WARN  BLAS:61 - Failed to load implementation from: com.github.fommil.netlib.NativeSystemBLAS\n",
      "2018-09-18 16:09:05 WARN  BLAS:61 - Failed to load implementation from: com.github.fommil.netlib.NativeRefBLAS\n",
      "2018-09-18 16:09:12 WARN  Utils:66 - Your hostname, xino resolves to a loopback address: 127.0.1.1; using 10.196.160.215 instead (on interface wlp2s0)\n",
      "2018-09-18 16:09:12 WARN  Utils:66 - Set SPARK_LOCAL_IP if you need to bind to another address\n",
      "2018-09-18 16:09:13 WARN  NativeCodeLoader:62 - Unable to load native-hadoop library for your platform... using builtin-java classes where applicable\n",
      "Setting default log level to \"WARN\".\n",
      "To adjust logging level use sc.setLogLevel(newLevel). For SparkR, use setLogLevel(newLevel).\n",
      "2018-09-18 16:09:13 WARN  Utils:66 - Service 'SparkUI' could not bind on port 4040. Attempting port 4041.\n",
      "2018-09-18 16:09:13 WARN  Utils:66 - Service 'SparkUI' could not bind on port 4041. Attempting port 4042.\n",
      "2018-09-18 16:09:13 WARN  Utils:66 - Service 'SparkUI' could not bind on port 4042. Attempting port 4043.\n",
      "2018-09-18 16:09:13 WARN  Utils:66 - Service 'SparkUI' could not bind on port 4043. Attempting port 4044.\n"
     ]
    }
   ],
   "source": [
    "for f in flow:\n",
    "    nb = os.path.join(dlf.project.rootpath(),f)\n",
    "    !datalabframework run --timeout=None $nb"
   ]
  },
  {
   "cell_type": "code",
   "execution_count": null,
   "metadata": {},
   "outputs": [],
   "source": []
  }
 ],
 "metadata": {
  "kernelspec": {
   "display_name": "Python 3",
   "language": "python",
   "name": "python3"
  },
  "language_info": {
   "codemirror_mode": {
    "name": "ipython",
    "version": 3
   },
   "file_extension": ".py",
   "mimetype": "text/x-python",
   "name": "python",
   "nbconvert_exporter": "python",
   "pygments_lexer": "ipython3",
   "version": "3.6.6"
  }
 },
 "nbformat": 4,
 "nbformat_minor": 2
}
