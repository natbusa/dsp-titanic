{
 "cells": [
  {
   "cell_type": "markdown",
   "metadata": {},
   "source": [
    "# ETL flow"
   ]
  },
  {
   "cell_type": "code",
   "execution_count": 1,
   "metadata": {},
   "outputs": [
    {
     "name": "stdout",
     "output_type": "stream",
     "text": [
      "Executing a datalabframework notebook\r\n",
      "\r\n",
      "Options\r\n",
      "-------\r\n",
      "\r\n",
      "Arguments that take values are actually convenience aliases to full\r\n",
      "Configurables, whose aliases are listed on the help line. For more information\r\n",
      "on full configurables, see '--help-all'.\r\n",
      "\r\n",
      "--debug\r\n",
      "    Set loglevel to DEBUG\r\n",
      "--timeout=<Int> (ExecutePreprocessor.timeout)\r\n",
      "    Default: 30\r\n",
      "    The time to wait (in seconds) for output from executions. If a cell\r\n",
      "    execution takes longer, an exception (TimeoutError on python 3+,\r\n",
      "    RuntimeError on python 2) is raised.\r\n",
      "    `None` or `-1` will disable the timeout. If `timeout_func` is set, it\r\n",
      "    overrides `timeout`.\r\n",
      "--log_level=<Enum> (DlfRunApp.log_level)\r\n",
      "    Default: 30\r\n",
      "    Choices: (0, 10, 20, 30, 40, 50, 'DEBUG', 'INFO', 'WARN', 'ERROR', 'CRITICAL')\r\n",
      "    Set the log level by value or name.\r\n",
      "\r\n",
      "To see all available configurables, use `--help-all`\r\n",
      "\r\n"
     ]
    }
   ],
   "source": [
    "!datalabframework run --help"
   ]
  },
  {
   "cell_type": "code",
   "execution_count": 2,
   "metadata": {},
   "outputs": [
    {
     "data": {
      "text/plain": [
       "'/home/natbusa/Projects/dsp-titanic/src'"
      ]
     },
     "execution_count": 2,
     "metadata": {},
     "output_type": "execute_result"
    }
   ],
   "source": [
    "import os.path\n",
    "\n",
    "import datalabframework as dlf\n",
    "dlf.project.rootpath()"
   ]
  },
  {
   "cell_type": "code",
   "execution_count": 3,
   "metadata": {},
   "outputs": [],
   "source": [
    "flow = [\n",
    "    'etl/extract/extract.ipynb',\n",
    "    'etl/clean/clean.ipynb',\n",
    "    'etl/features/features.ipynb',\n",
    "    'etl/models/lr/train.ipynb',\n",
    "    'etl/models/lr/score.ipynb',\n",
    "]"
   ]
  },
  {
   "cell_type": "code",
   "execution_count": 6,
   "metadata": {},
   "outputs": [
    {
     "name": "stdout",
     "output_type": "stream",
     "text": [
      "2018-09-11 11:23:32 WARN  Utils:66 - Your hostname, xino resolves to a loopback address: 127.0.1.1; using 192.168.1.13 instead (on interface wlp2s0)\n",
      "2018-09-11 11:23:32 WARN  Utils:66 - Set SPARK_LOCAL_IP if you need to bind to another address\n",
      "2018-09-11 11:23:32 WARN  NativeCodeLoader:62 - Unable to load native-hadoop library for your platform... using builtin-java classes where applicable\n",
      "Setting default log level to \"WARN\".\n",
      "To adjust logging level use sc.setLogLevel(newLevel). For SparkR, use setLogLevel(newLevel).\n",
      "2018-09-11 11:23:42 WARN  Utils:66 - Your hostname, xino resolves to a loopback address: 127.0.1.1; using 192.168.1.13 instead (on interface wlp2s0)\n",
      "2018-09-11 11:23:42 WARN  Utils:66 - Set SPARK_LOCAL_IP if you need to bind to another address\n",
      "2018-09-11 11:23:43 WARN  NativeCodeLoader:62 - Unable to load native-hadoop library for your platform... using builtin-java classes where applicable\n",
      "Setting default log level to \"WARN\".\n",
      "To adjust logging level use sc.setLogLevel(newLevel). For SparkR, use setLogLevel(newLevel).\n",
      "2018-09-11 11:23:51 WARN  BLAS:61 - Failed to load implementation from: com.github.fommil.netlib.NativeSystemBLAS\n",
      "2018-09-11 11:23:51 WARN  BLAS:61 - Failed to load implementation from: com.github.fommil.netlib.NativeRefBLAS\n",
      "2018-09-11 11:23:58 WARN  Utils:66 - Your hostname, xino resolves to a loopback address: 127.0.1.1; using 192.168.1.13 instead (on interface wlp2s0)\n",
      "2018-09-11 11:23:58 WARN  Utils:66 - Set SPARK_LOCAL_IP if you need to bind to another address\n",
      "2018-09-11 11:23:58 WARN  NativeCodeLoader:62 - Unable to load native-hadoop library for your platform... using builtin-java classes where applicable\n",
      "Setting default log level to \"WARN\".\n",
      "To adjust logging level use sc.setLogLevel(newLevel). For SparkR, use setLogLevel(newLevel).\n",
      "2018-09-11 11:24:15 WARN  Utils:66 - Your hostname, xino resolves to a loopback address: 127.0.1.1; using 192.168.1.13 instead (on interface wlp2s0)\n",
      "2018-09-11 11:24:15 WARN  Utils:66 - Set SPARK_LOCAL_IP if you need to bind to another address\n",
      "2018-09-11 11:24:15 WARN  NativeCodeLoader:62 - Unable to load native-hadoop library for your platform... using builtin-java classes where applicable\n",
      "Setting default log level to \"WARN\".\n",
      "To adjust logging level use sc.setLogLevel(newLevel). For SparkR, use setLogLevel(newLevel).\n",
      "2018-09-11 11:24:20 WARN  BLAS:61 - Failed to load implementation from: com.github.fommil.netlib.NativeSystemBLAS\n",
      "2018-09-11 11:24:20 WARN  BLAS:61 - Failed to load implementation from: com.github.fommil.netlib.NativeRefBLAS\n",
      "2018-09-11 11:24:27 WARN  Utils:66 - Your hostname, xino resolves to a loopback address: 127.0.1.1; using 192.168.1.13 instead (on interface wlp2s0)\n",
      "2018-09-11 11:24:27 WARN  Utils:66 - Set SPARK_LOCAL_IP if you need to bind to another address\n",
      "2018-09-11 11:24:27 WARN  NativeCodeLoader:62 - Unable to load native-hadoop library for your platform... using builtin-java classes where applicable\n",
      "Setting default log level to \"WARN\".\n",
      "To adjust logging level use sc.setLogLevel(newLevel). For SparkR, use setLogLevel(newLevel).\n"
     ]
    }
   ],
   "source": [
    "for f in flow:\n",
    "    nb = os.path.join(dlf.project.rootpath(),f)\n",
    "    !datalabframework run --timeout=None $nb"
   ]
  },
  {
   "cell_type": "code",
   "execution_count": null,
   "metadata": {},
   "outputs": [],
   "source": []
  }
 ],
 "metadata": {
  "kernelspec": {
   "display_name": "Python 3",
   "language": "python",
   "name": "python3"
  },
  "language_info": {
   "codemirror_mode": {
    "name": "ipython",
    "version": 3
   },
   "file_extension": ".py",
   "mimetype": "text/x-python",
   "name": "python",
   "nbconvert_exporter": "python",
   "pygments_lexer": "ipython3",
   "version": "3.6.6"
  }
 },
 "nbformat": 4,
 "nbformat_minor": 2
}
