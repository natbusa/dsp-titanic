{
 "cells": [
  {
   "cell_type": "markdown",
   "metadata": {},
   "source": [
    "# ETL flow"
   ]
  },
  {
   "cell_type": "code",
   "execution_count": 9,
   "metadata": {},
   "outputs": [
    {
     "name": "stdout",
     "output_type": "stream",
     "text": [
      "Executing a datalabframework notebook\n",
      "\n",
      "Options\n",
      "-------\n",
      "\n",
      "Arguments that take values are actually convenience aliases to full\n",
      "Configurables, whose aliases are listed on the help line. For more information\n",
      "on full configurables, see '--help-all'.\n",
      "\n",
      "--debug\n",
      "    Set loglevel to DEBUG\n",
      "--timeout=<Int> (ExecutePreprocessor.timeout)\n",
      "    Default: 30\n",
      "    The time to wait (in seconds) for output from executions. If a cell\n",
      "    execution takes longer, an exception (TimeoutError on python 3+,\n",
      "    RuntimeError on python 2) is raised.\n",
      "    `None` or `-1` will disable the timeout. If `timeout_func` is set, it\n",
      "    overrides `timeout`.\n",
      "--log_level=<Enum> (DlfRunApp.log_level)\n",
      "    Default: 30\n",
      "    Choices: (0, 10, 20, 30, 40, 50, 'DEBUG', 'INFO', 'WARN', 'ERROR', 'CRITICAL')\n",
      "    Set the log level by value or name.\n",
      "\n",
      "To see all available configurables, use `--help-all`\n",
      "\n"
     ]
    }
   ],
   "source": [
    "!datalabframework run --help"
   ]
  },
  {
   "cell_type": "code",
   "execution_count": 6,
   "metadata": {},
   "outputs": [
    {
     "name": "stdout",
     "output_type": "stream",
     "text": [
      "running /home/jovyan/src/flows/../etl/extract/extract.ipynb (cwd=/home/jovyan/src/flows/../etl/extract)\n",
      "2018-09-06 09:30:11 WARN  NativeCodeLoader:62 - Unable to load native-hadoop library for your platform... using builtin-java classes where applicable\n",
      "Setting default log level to \"WARN\".\n",
      "To adjust logging level use sc.setLogLevel(newLevel). For SparkR, use setLogLevel(newLevel).\n",
      "2018-09-06 09:30:12 WARN  Utils:66 - Service 'SparkUI' could not bind on port 4040. Attempting port 4041.\n",
      "2018-09-06 09:30:12 WARN  Utils:66 - Service 'SparkUI' could not bind on port 4041. Attempting port 4042.\n",
      "2018-09-06 09:30:12 WARN  Utils:66 - Service 'SparkUI' could not bind on port 4042. Attempting port 4043.\n",
      "2018-09-06 09:30:12 WARN  Utils:66 - Service 'SparkUI' could not bind on port 4043. Attempting port 4044.\n",
      "2018-09-06 09:30:12 WARN  Utils:66 - Service 'SparkUI' could not bind on port 4044. Attempting port 4045.\n",
      "{'cells': 28, 'code': 15, 'markdown': 13, 'ename': None, 'evalue': None, 'executed': 15}\n",
      "running /home/jovyan/src/flows/../etl/clean/clean.ipynb (cwd=/home/jovyan/src/flows/../etl/clean)\n",
      "2018-09-06 09:30:23 WARN  NativeCodeLoader:62 - Unable to load native-hadoop library for your platform... using builtin-java classes where applicable\n",
      "Setting default log level to \"WARN\".\n",
      "To adjust logging level use sc.setLogLevel(newLevel). For SparkR, use setLogLevel(newLevel).\n",
      "2018-09-06 09:30:24 WARN  Utils:66 - Service 'SparkUI' could not bind on port 4040. Attempting port 4041.\n",
      "2018-09-06 09:30:24 WARN  Utils:66 - Service 'SparkUI' could not bind on port 4041. Attempting port 4042.\n",
      "2018-09-06 09:30:24 WARN  Utils:66 - Service 'SparkUI' could not bind on port 4042. Attempting port 4043.\n",
      "2018-09-06 09:30:24 WARN  Utils:66 - Service 'SparkUI' could not bind on port 4043. Attempting port 4044.\n",
      "2018-09-06 09:30:24 WARN  Utils:66 - Service 'SparkUI' could not bind on port 4044. Attempting port 4045.\n",
      "2018-09-06 09:30:33 WARN  BLAS:61 - Failed to load implementation from: com.github.fommil.netlib.NativeSystemBLAS\n",
      "2018-09-06 09:30:33 WARN  BLAS:61 - Failed to load implementation from: com.github.fommil.netlib.NativeRefBLAS\n",
      "{'cells': 18, 'code': 16, 'markdown': 2, 'ename': None, 'evalue': None, 'executed': 16}\n"
     ]
    }
   ],
   "source": [
    "!datalabframework run --timeout None ../etl/extract/extract.ipynb \n",
    "!datalabframework run --timeout None ../etl/clean/clean.ipynb "
   ]
  },
  {
   "cell_type": "code",
   "execution_count": 7,
   "metadata": {},
   "outputs": [
    {
     "name": "stdout",
     "output_type": "stream",
     "text": [
      "running /home/jovyan/src/flows/../etl/features/features.ipynb (cwd=/home/jovyan/src/flows/../etl/features)\n",
      "2018-09-06 09:30:46 WARN  NativeCodeLoader:62 - Unable to load native-hadoop library for your platform... using builtin-java classes where applicable\n",
      "Setting default log level to \"WARN\".\n",
      "To adjust logging level use sc.setLogLevel(newLevel). For SparkR, use setLogLevel(newLevel).\n",
      "2018-09-06 09:30:46 WARN  Utils:66 - Service 'SparkUI' could not bind on port 4040. Attempting port 4041.\n",
      "2018-09-06 09:30:46 WARN  Utils:66 - Service 'SparkUI' could not bind on port 4041. Attempting port 4042.\n",
      "2018-09-06 09:30:46 WARN  Utils:66 - Service 'SparkUI' could not bind on port 4042. Attempting port 4043.\n",
      "2018-09-06 09:30:46 WARN  Utils:66 - Service 'SparkUI' could not bind on port 4043. Attempting port 4044.\n",
      "2018-09-06 09:30:46 WARN  Utils:66 - Service 'SparkUI' could not bind on port 4044. Attempting port 4045.\n",
      "Traceback (most recent call last):\n",
      "  File \"/opt/conda/bin/datalabframework-run\", line 6, in <module>\n",
      "    main()\n",
      "  File \"/opt/conda/lib/python3.6/site-packages/datalabframework/run.py\", line 129, in main\n",
      "    app.start()\n",
      "  File \"/opt/conda/lib/python3.6/site-packages/datalabframework/run.py\", line 124, in start\n",
      "    self.run_single_notebook(notebook_filename)\n",
      "  File \"/opt/conda/lib/python3.6/site-packages/datalabframework/run.py\", line 119, in run_single_notebook\n",
      "    (nb_out, resources_out) = self.ep.preprocess(nb, resources)\n",
      "  File \"/opt/conda/lib/python3.6/site-packages/nbconvert/preprocessors/execute.py\", line 262, in preprocess\n",
      "    nb, resources = super(ExecutePreprocessor, self).preprocess(nb, resources)\n",
      "  File \"/opt/conda/lib/python3.6/site-packages/nbconvert/preprocessors/base.py\", line 69, in preprocess\n",
      "    nb.cells[index], resources = self.preprocess_cell(cell, resources, index)\n",
      "  File \"/opt/conda/lib/python3.6/site-packages/nbconvert/preprocessors/execute.py\", line 286, in preprocess_cell\n",
      "    raise CellExecutionError.from_cell_and_msg(cell, out)\n",
      "nbconvert.preprocessors.execute.CellExecutionError: An error occurred while executing the following cell:\n",
      "------------------\n",
      "engine.write(df_features,'train', mode='overwrite')\n",
      "------------------\n",
      "\n",
      "\u001b[0;31m---------------------------------------------------------------------------\u001b[0m\n",
      "\u001b[0;31mTypeError\u001b[0m                                 Traceback (most recent call last)\n",
      "\u001b[0;32m<ipython-input-10-414e71c6dc71>\u001b[0m in \u001b[0;36m<module>\u001b[0;34m()\u001b[0m\n",
      "\u001b[0;32m----> 1\u001b[0;31m \u001b[0mengine\u001b[0m\u001b[0;34m.\u001b[0m\u001b[0mwrite\u001b[0m\u001b[0;34m(\u001b[0m\u001b[0mdf_features\u001b[0m\u001b[0;34m,\u001b[0m\u001b[0;34m'train'\u001b[0m\u001b[0;34m,\u001b[0m \u001b[0mmode\u001b[0m\u001b[0;34m=\u001b[0m\u001b[0;34m'overwrite'\u001b[0m\u001b[0;34m)\u001b[0m\u001b[0;34m\u001b[0m\u001b[0m\n",
      "\u001b[0m\n",
      "\u001b[0;32m/opt/conda/lib/python3.6/site-packages/datalabframework/engines.py\u001b[0m in \u001b[0;36mwrite\u001b[0;34m(self, obj, resource, **kargs)\u001b[0m\n",
      "\u001b[1;32m     38\u001b[0m \u001b[0;34m\u001b[0m\u001b[0m\n",
      "\u001b[1;32m     39\u001b[0m     \u001b[0;32mdef\u001b[0m \u001b[0mwrite\u001b[0m\u001b[0;34m(\u001b[0m\u001b[0mself\u001b[0m\u001b[0;34m,\u001b[0m \u001b[0mobj\u001b[0m\u001b[0;34m,\u001b[0m \u001b[0mresource\u001b[0m\u001b[0;34m,\u001b[0m \u001b[0;34m**\u001b[0m\u001b[0mkargs\u001b[0m\u001b[0;34m)\u001b[0m\u001b[0;34m:\u001b[0m\u001b[0;34m\u001b[0m\u001b[0m\n",
      "\u001b[0;32m---> 40\u001b[0;31m         \u001b[0mpath\u001b[0m \u001b[0;34m=\u001b[0m \u001b[0mdata\u001b[0m\u001b[0;34m.\u001b[0m\u001b[0mpath\u001b[0m\u001b[0;34m(\u001b[0m\u001b[0mresource\u001b[0m\u001b[0;34m)\u001b[0m\u001b[0;34m\u001b[0m\u001b[0m\n",
      "\u001b[0m\u001b[1;32m     41\u001b[0m         \u001b[0mmd\u001b[0m \u001b[0;34m=\u001b[0m \u001b[0mdata\u001b[0m\u001b[0;34m.\u001b[0m\u001b[0mmetadata\u001b[0m\u001b[0;34m(\u001b[0m\u001b[0mresource\u001b[0m\u001b[0;34m)\u001b[0m\u001b[0;34m\u001b[0m\u001b[0m\n",
      "\u001b[1;32m     42\u001b[0m \u001b[0;34m\u001b[0m\u001b[0m\n",
      "\n",
      "\u001b[0;32m/opt/conda/lib/python3.6/site-packages/datalabframework/data.py\u001b[0m in \u001b[0;36mpath\u001b[0;34m(resource)\u001b[0m\n",
      "\u001b[1;32m     13\u001b[0m     \u001b[0mmd\u001b[0m \u001b[0;34m=\u001b[0m \u001b[0mparams\u001b[0m\u001b[0;34m.\u001b[0m\u001b[0mmetadata\u001b[0m\u001b[0;34m(\u001b[0m\u001b[0;34m)\u001b[0m\u001b[0;34m\u001b[0m\u001b[0m\n",
      "\u001b[1;32m     14\u001b[0m     \u001b[0mds\u001b[0m \u001b[0;34m=\u001b[0m \u001b[0mmetadata\u001b[0m\u001b[0;34m(\u001b[0m\u001b[0mresource\u001b[0m\u001b[0;34m)\u001b[0m\u001b[0;34m\u001b[0m\u001b[0m\n",
      "\u001b[0;32m---> 15\u001b[0;31m     \u001b[0mpd\u001b[0m \u001b[0;34m=\u001b[0m \u001b[0mmd\u001b[0m\u001b[0;34m[\u001b[0m\u001b[0;34m'providers'\u001b[0m\u001b[0;34m]\u001b[0m\u001b[0;34m[\u001b[0m\u001b[0mds\u001b[0m\u001b[0;34m[\u001b[0m\u001b[0;34m'provider'\u001b[0m\u001b[0;34m]\u001b[0m\u001b[0;34m]\u001b[0m\u001b[0;34m\u001b[0m\u001b[0m\n",
      "\u001b[0m\u001b[1;32m     16\u001b[0m \u001b[0;34m\u001b[0m\u001b[0m\n",
      "\u001b[1;32m     17\u001b[0m     \u001b[0;32mif\u001b[0m \u001b[0mpd\u001b[0m\u001b[0;34m[\u001b[0m\u001b[0;34m'service'\u001b[0m\u001b[0;34m]\u001b[0m\u001b[0;34m==\u001b[0m\u001b[0;34m'fs'\u001b[0m\u001b[0;34m:\u001b[0m\u001b[0;34m\u001b[0m\u001b[0m\n",
      "\n",
      "\u001b[0;31mTypeError\u001b[0m: 'NoneType' object is not subscriptable\n",
      "TypeError: 'NoneType' object is not subscriptable\n",
      "\n"
     ]
    }
   ],
   "source": [
    "!datalabframework run --timeout None ../etl/features/features.ipynb"
   ]
  },
  {
   "cell_type": "code",
   "execution_count": 8,
   "metadata": {},
   "outputs": [
    {
     "name": "stdout",
     "output_type": "stream",
     "text": [
      "running /home/jovyan/src/flows/../models/lr/train.ipynb (cwd=/home/jovyan/src/flows/../models/lr)\n",
      "2018-09-06 09:31:11 WARN  NativeCodeLoader:62 - Unable to load native-hadoop library for your platform... using builtin-java classes where applicable\n",
      "Setting default log level to \"WARN\".\n",
      "To adjust logging level use sc.setLogLevel(newLevel). For SparkR, use setLogLevel(newLevel).\n",
      "2018-09-06 09:31:11 WARN  Utils:66 - Service 'SparkUI' could not bind on port 4040. Attempting port 4041.\n",
      "2018-09-06 09:31:11 WARN  Utils:66 - Service 'SparkUI' could not bind on port 4041. Attempting port 4042.\n",
      "2018-09-06 09:31:11 WARN  Utils:66 - Service 'SparkUI' could not bind on port 4042. Attempting port 4043.\n",
      "2018-09-06 09:31:11 WARN  Utils:66 - Service 'SparkUI' could not bind on port 4043. Attempting port 4044.\n",
      "2018-09-06 09:31:11 WARN  Utils:66 - Service 'SparkUI' could not bind on port 4044. Attempting port 4045.\n",
      "2018-09-06 09:31:16 WARN  BLAS:61 - Failed to load implementation from: com.github.fommil.netlib.NativeSystemBLAS\n",
      "2018-09-06 09:31:16 WARN  BLAS:61 - Failed to load implementation from: com.github.fommil.netlib.NativeRefBLAS\n",
      "{'cells': 15, 'code': 14, 'markdown': 1, 'ename': None, 'evalue': None, 'executed': 14}\n",
      "running /home/jovyan/src/flows/../models/lr/score.ipynb (cwd=/home/jovyan/src/flows/../models/lr)\n",
      "2018-09-06 09:31:24 WARN  NativeCodeLoader:62 - Unable to load native-hadoop library for your platform... using builtin-java classes where applicable\n",
      "Setting default log level to \"WARN\".\n",
      "To adjust logging level use sc.setLogLevel(newLevel). For SparkR, use setLogLevel(newLevel).\n",
      "2018-09-06 09:31:24 WARN  Utils:66 - Service 'SparkUI' could not bind on port 4040. Attempting port 4041.\n",
      "2018-09-06 09:31:24 WARN  Utils:66 - Service 'SparkUI' could not bind on port 4041. Attempting port 4042.\n",
      "2018-09-06 09:31:24 WARN  Utils:66 - Service 'SparkUI' could not bind on port 4042. Attempting port 4043.\n",
      "2018-09-06 09:31:24 WARN  Utils:66 - Service 'SparkUI' could not bind on port 4043. Attempting port 4044.\n",
      "2018-09-06 09:31:24 WARN  Utils:66 - Service 'SparkUI' could not bind on port 4044. Attempting port 4045.\n",
      "{'cells': 10, 'code': 9, 'markdown': 1, 'ename': None, 'evalue': None, 'executed': 9}\n"
     ]
    }
   ],
   "source": [
    "!datalabframework run --timeout None ../models/lr/train.ipynb\n",
    "!datalabframework run --timeout None ../models/lr/score.ipynb"
   ]
  },
  {
   "cell_type": "code",
   "execution_count": null,
   "metadata": {},
   "outputs": [],
   "source": []
  }
 ],
 "metadata": {
  "kernelspec": {
   "display_name": "Python 3",
   "language": "python",
   "name": "python3"
  },
  "language_info": {
   "codemirror_mode": {
    "name": "ipython",
    "version": 3
   },
   "file_extension": ".py",
   "mimetype": "text/x-python",
   "name": "python",
   "nbconvert_exporter": "python",
   "pygments_lexer": "ipython3",
   "version": "3.6.5"
  }
 },
 "nbformat": 4,
 "nbformat_minor": 2
}
