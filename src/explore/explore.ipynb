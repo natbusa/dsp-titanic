{
 "cells": [
  {
   "cell_type": "markdown",
   "metadata": {},
   "source": [
    "# Titanic"
   ]
  },
  {
   "cell_type": "markdown",
   "metadata": {},
   "source": [
    "This data science project is about setting good practices while building data science models. For this particular example, we are going to use the titanic dataset, and work both with pandas and spark."
   ]
  },
  {
   "cell_type": "markdown",
   "metadata": {},
   "source": [
    "## Data ##\n",
    "\n",
    "The Titanic dataset is provided by Kaggle."
   ]
  },
  {
   "cell_type": "code",
   "execution_count": 1,
   "metadata": {},
   "outputs": [],
   "source": [
    "import datalabframework as dlf"
   ]
  },
  {
   "cell_type": "code",
   "execution_count": 2,
   "metadata": {},
   "outputs": [
    {
     "name": "stdout",
     "output_type": "stream",
     "text": [
      "engines:\n",
      "  spark:\n",
      "    config:\n",
      "      jobname: default\n",
      "      master: local[1]\n",
      "    context: spark\n",
      "loggers:\n",
      "  kafka:\n",
      "    enable: false\n",
      "    hosts:\n",
      "    - localhost:29092\n",
      "    severity: info\n",
      "    topic: dlf\n",
      "  stream:\n",
      "    enable: true\n",
      "    severity: info\n",
      "providers:\n",
      "  local:\n",
      "    rootpath: ../data\n",
      "    service: fs\n",
      "resources:\n",
      "  .etl.clean.test:\n",
      "    format: parquet\n",
      "    path: datasets/clean/test\n",
      "    provider: local\n",
      "  .etl.clean.train:\n",
      "    format: parquet\n",
      "    path: datasets/clean/train\n",
      "    provider: local\n",
      "  .etl.extract.test:\n",
      "    format: parquet\n",
      "    path: datasets/extract/test\n",
      "    provider: local\n",
      "  .etl.extract.train:\n",
      "    format: parquet\n",
      "    path: datasets/extract/train\n",
      "    provider: local\n",
      "  .etl.features.test:\n",
      "    format: parquet\n",
      "    path: datasets/features/test\n",
      "    provider: local\n",
      "  .etl.features.train:\n",
      "    format: parquet\n",
      "    path: datasets/features/train\n",
      "    provider: local\n",
      "  .etl.raw.test:\n",
      "    format: csv\n",
      "    path: datasets/raw/test.csv\n",
      "    provider: local\n",
      "  .etl.raw.train:\n",
      "    format: csv\n",
      "    path: datasets/raw/train.csv\n",
      "    provider: local\n",
      "run: default\n",
      "\n"
     ]
    }
   ],
   "source": [
    "metadata = dlf.params.metadata()\n",
    "dlf.utils.pretty_print(metadata)"
   ]
  }
 ],
 "metadata": {
  "kernelspec": {
   "display_name": "Python 3",
   "language": "python",
   "name": "python3"
  },
  "language_info": {
   "codemirror_mode": {
    "name": "ipython",
    "version": 3
   },
   "file_extension": ".py",
   "mimetype": "text/x-python",
   "name": "python",
   "nbconvert_exporter": "python",
   "pygments_lexer": "ipython3",
   "version": "3.6.6"
  }
 },
 "nbformat": 4,
 "nbformat_minor": 2
}
