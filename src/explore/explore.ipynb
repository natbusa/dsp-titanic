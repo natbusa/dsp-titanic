{
 "cells": [
  {
   "cell_type": "markdown",
   "metadata": {},
   "source": [
    "# Titanic"
   ]
  },
  {
   "cell_type": "markdown",
   "metadata": {},
   "source": [
    "This data science project is about setting good practices while building data science models. For this particular example, we are going to use the titanic dataset, and work both with pandas and spark."
   ]
  },
  {
   "cell_type": "markdown",
   "metadata": {},
   "source": [
    "## References ##  \n",
    "\n",
    "For a more detailed overview about the project template and the datalabframework package, please refer to the notebooks in the [how to directory](publish/reports/howto/howto.ipynb).\n",
    "\n",
    "  - [ETL](etl/main.ipynb)\n",
    "  - [Models](models/main.ipnb)\n",
    "  - [Reports](publish/reports/main.ipynb)\n",
    "  "
   ]
  },
  {
   "cell_type": "markdown",
   "metadata": {},
   "source": [
    "## Data ##\n",
    "\n",
    "The Titanic dataset is provided by Kaggle."
   ]
  },
  {
   "cell_type": "code",
   "execution_count": 1,
   "metadata": {},
   "outputs": [],
   "source": [
    "import datalabframework as dlf"
   ]
  },
  {
   "cell_type": "code",
   "execution_count": 4,
   "metadata": {},
   "outputs": [
    {
     "name": "stdout",
     "output_type": "stream",
     "text": [
      "default:\n",
      "  engines:\n",
      "    numpy:\n",
      "      context: numpy\n",
      "    pandas:\n",
      "      context: pandas\n",
      "    spark:\n",
      "      config:\n",
      "        jobname: test\n",
      "        master: local[4]\n",
      "      context: spark\n",
      "  loggers:\n",
      "    kafka:\n",
      "      enable: false\n",
      "      hosts:\n",
      "      - localhost:29092\n",
      "      severity: info\n",
      "      topic: dlf\n",
      "    stream:\n",
      "      enable: true\n",
      "      severity: info\n",
      "  providers:\n",
      "    local:\n",
      "      rootpath: ../data\n",
      "      service: fs\n",
      "  resources:\n",
      "    .etl.clean.test:\n",
      "      format: parquet\n",
      "      path: datasets/clean/test\n",
      "      provider: local\n",
      "    .etl.clean.train:\n",
      "      format: parquet\n",
      "      path: datasets/clean/train\n",
      "      provider: local\n",
      "    .etl.extract.test:\n",
      "      format: parquet\n",
      "      path: datasets/extract/test\n",
      "      provider: local\n",
      "    .etl.extract.train:\n",
      "      format: parquet\n",
      "      path: datasets/extract/train\n",
      "      provider: local\n",
      "    .etl.features.test:\n",
      "      format: parquet\n",
      "      path: datasets/features/test\n",
      "      provider: local\n",
      "    .etl.features.train:\n",
      "      format: parquet\n",
      "      path: datasets/features/train\n",
      "      provider: local\n",
      "    .etl.raw.test:\n",
      "      format: csv\n",
      "      path: datasets/raw/test.csv\n",
      "      provider: local\n",
      "    .etl.raw.train:\n",
      "      format: csv\n",
      "      path: datasets/raw/train.csv\n",
      "      provider: local\n",
      "  run: default\n",
      "\n"
     ]
    }
   ],
   "source": [
    "metadata = dlf.params.metadata(all_runs=True)\n",
    "dlf.utils.pretty_print(metadata)"
   ]
  },
  {
   "cell_type": "code",
   "execution_count": 4,
   "metadata": {},
   "outputs": [
    {
     "ename": "TypeError",
     "evalue": "metadata_info() takes 0 positional arguments but 1 was given",
     "output_type": "error",
     "traceback": [
      "\u001b[0;31m---------------------------------------------------------------------------\u001b[0m",
      "\u001b[0;31mTypeError\u001b[0m                                 Traceback (most recent call last)",
      "\u001b[0;32m<ipython-input-4-24b04387109f>\u001b[0m in \u001b[0;36m<module>\u001b[0;34m()\u001b[0m\n\u001b[0;32m----> 1\u001b[0;31m \u001b[0mmetadata_info\u001b[0m \u001b[0;34m=\u001b[0m \u001b[0mdlf\u001b[0m\u001b[0;34m.\u001b[0m\u001b[0mparams\u001b[0m\u001b[0;34m.\u001b[0m\u001b[0mmetadata_info\u001b[0m\u001b[0;34m(\u001b[0m\u001b[0;34m'default'\u001b[0m\u001b[0;34m)\u001b[0m\u001b[0;34m\u001b[0m\u001b[0m\n\u001b[0m\u001b[1;32m      2\u001b[0m \u001b[0mdlf\u001b[0m\u001b[0;34m.\u001b[0m\u001b[0mutils\u001b[0m\u001b[0;34m.\u001b[0m\u001b[0mpretty_print\u001b[0m\u001b[0;34m(\u001b[0m\u001b[0mmetadata_info\u001b[0m\u001b[0;34m)\u001b[0m\u001b[0;34m\u001b[0m\u001b[0m\n",
      "\u001b[0;31mTypeError\u001b[0m: metadata_info() takes 0 positional arguments but 1 was given"
     ]
    }
   ],
   "source": [
    "metadata_info = dlf.params.metadata_info('default')\n",
    "dlf.utils.pretty_print(metadata_info)"
   ]
  },
  {
   "cell_type": "code",
   "execution_count": 7,
   "metadata": {},
   "outputs": [
    {
     "data": {
      "text/plain": [
       "'main.ipynb'"
      ]
     },
     "execution_count": 7,
     "metadata": {},
     "output_type": "execute_result"
    }
   ],
   "source": [
    "dlf.project.filename()"
   ]
  },
  {
   "cell_type": "code",
   "execution_count": 8,
   "metadata": {},
   "outputs": [
    {
     "data": {
      "text/plain": [
       "'/home/natbusa/Projects/dsp-titanic/src/main.ipynb'"
      ]
     },
     "execution_count": 8,
     "metadata": {},
     "output_type": "execute_result"
    }
   ],
   "source": [
    "dlf.project.filename(False)"
   ]
  },
  {
   "cell_type": "code",
   "execution_count": null,
   "metadata": {},
   "outputs": [],
   "source": []
  }
 ],
 "metadata": {
  "kernelspec": {
   "display_name": "Python 3",
   "language": "python",
   "name": "python3"
  },
  "language_info": {
   "codemirror_mode": {
    "name": "ipython",
    "version": 3
   },
   "file_extension": ".py",
   "mimetype": "text/x-python",
   "name": "python",
   "nbconvert_exporter": "python",
   "pygments_lexer": "ipython3",
   "version": "3.6.6"
  }
 },
 "nbformat": 4,
 "nbformat_minor": 2
}
