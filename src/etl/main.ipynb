{
 "cells": [
  {
   "cell_type": "markdown",
   "metadata": {},
   "source": [
    "# ETL flow"
   ]
  },
  {
   "cell_type": "code",
   "execution_count": 3,
   "metadata": {},
   "outputs": [
    {
     "ename": "NameError",
     "evalue": "name 'lrchop' is not defined",
     "output_type": "error",
     "traceback": [
      "\u001b[0;31m---------------------------------------------------------------------------\u001b[0m",
      "\u001b[0;31mNameError\u001b[0m                                 Traceback (most recent call last)",
      "\u001b[0;32m<ipython-input-3-40f632bc42b4>\u001b[0m in \u001b[0;36m<module>\u001b[0;34m()\u001b[0m\n\u001b[1;32m      2\u001b[0m \u001b[0;31m#! python run.py clean.ipynb run=fulldata\u001b[0m\u001b[0;34m\u001b[0m\u001b[0;34m\u001b[0m\u001b[0m\n\u001b[1;32m      3\u001b[0m \u001b[0;34m\u001b[0m\u001b[0m\n\u001b[0;32m----> 4\u001b[0;31m \u001b[0mlrchop\u001b[0m\u001b[0;34m(\u001b[0m\u001b[0;34m'asdfg'\u001b[0m\u001b[0;34m,\u001b[0m \u001b[0;34m'asd'\u001b[0m\u001b[0;34m,\u001b[0m \u001b[0;34m''\u001b[0m\u001b[0;34m)\u001b[0m\u001b[0;34m\u001b[0m\u001b[0m\n\u001b[0m",
      "\u001b[0;31mNameError\u001b[0m: name 'lrchop' is not defined"
     ]
    }
   ],
   "source": [
    "#! python run.py clean.ipynb run=test\n",
    "#! python run.py clean.ipynb run=fulldata\n",
    "\n",
    "lrchop('asdfg', 'asd', '')"
   ]
  },
  {
   "cell_type": "code",
   "execution_count": 122,
   "metadata": {},
   "outputs": [],
   "source": [
    "metadata = \"\"\"\n",
    "---\n",
    "run: train\n",
    "resources:\n",
    "    /ssd/data:\n",
    "        path: datasets/extract/{{ run }}\n",
    "        format: parquet\n",
    "        provider: local\n",
    "---\n",
    "run: test\n",
    "resources:\n",
    "    oh : '{{run}}'\n",
    "    data:\n",
    "        path: datasets/extract/{{ resources.oh }}\n",
    "        format: parquet-{{resources.data.provider}}\n",
    "        provider: local-{{resources.data.path}}\n",
    "\"\"\""
   ]
  },
  {
   "cell_type": "code",
   "execution_count": 123,
   "metadata": {},
   "outputs": [],
   "source": [
    "import yaml\n",
    "from jinja2 import Template"
   ]
  },
  {
   "cell_type": "code",
   "execution_count": 124,
   "metadata": {},
   "outputs": [],
   "source": [
    "y = list(yaml.load_all(metadata))"
   ]
  },
  {
   "cell_type": "code",
   "execution_count": 125,
   "metadata": {},
   "outputs": [
    {
     "name": "stdout",
     "output_type": "stream",
     "text": [
      "resources:\n",
      "  /ssd/data: {format: parquet, path: 'datasets/extract/train', provider: local}\n",
      "run: train\n",
      "resources:\n",
      "  data: {format: 'parquet-local-datasets/extract/test', path: 'datasets/extract/test', provider: 'local-datasets/extract/test'}\n",
      "  oh: 'test'\n",
      "run: test\n"
     ]
    }
   ],
   "source": [
    "m = {}\n",
    "for doc in y:\n",
    "    if 'run' in doc:\n",
    "        m[doc['run']] = yaml.dump(doc)\n",
    "    else:\n",
    "        m['default'] = yaml.dump(doc)\n",
    "\n",
    "for i in range(10):\n",
    "    for k,v in m.items():\n",
    "        template = Template(v)\n",
    "        m[k] = template.render(yaml.load(v))\n",
    "\n",
    "for e in m.values():\n",
    "    print(e)"
   ]
  },
  {
   "cell_type": "code",
   "execution_count": null,
   "metadata": {},
   "outputs": [],
   "source": []
  }
 ],
 "metadata": {
  "kernelspec": {
   "display_name": "Python 3",
   "language": "python",
   "name": "python3"
  },
  "language_info": {
   "codemirror_mode": {
    "name": "ipython",
    "version": 3
   },
   "file_extension": ".py",
   "mimetype": "text/x-python",
   "name": "python",
   "nbconvert_exporter": "python",
   "pygments_lexer": "ipython3",
   "version": "3.6.5"
  }
 },
 "nbformat": 4,
 "nbformat_minor": 2
}
