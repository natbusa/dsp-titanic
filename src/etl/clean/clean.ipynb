{
 "cells": [
  {
   "cell_type": "code",
   "execution_count": 1,
   "metadata": {},
   "outputs": [],
   "source": [
    "import datalabframework as dlf"
   ]
  },
  {
   "cell_type": "code",
   "execution_count": 2,
   "metadata": {
    "collapsed": false,
    "deletable": true,
    "editable": true
   },
   "outputs": [],
   "source": [
    "engine = dlf.engines.get('spark')\n",
    "spark = engine.context()"
   ]
  },
  {
   "cell_type": "code",
   "execution_count": 3,
   "metadata": {},
   "outputs": [
    {
     "data": {
      "text/plain": [
       "'spark:2.3.1'"
      ]
     },
     "execution_count": 3,
     "metadata": {},
     "output_type": "execute_result"
    }
   ],
   "source": [
    "#print out name and version\n",
    "'{}:{}'.format(engine.info['context'], spark.sparkSession.version)"
   ]
  },
  {
   "cell_type": "code",
   "execution_count": 4,
   "metadata": {},
   "outputs": [],
   "source": [
    "df={}\n",
    "for t in ['train', 'test']:\n",
    "    df[t] = engine.read('.etl.extract.{}'.format(t))"
   ]
  },
  {
   "cell_type": "code",
   "execution_count": 5,
   "metadata": {},
   "outputs": [
    {
     "name": "stdout",
     "output_type": "stream",
     "text": [
      "+-----------+--------+------+----+---+---+-----+-----+------+----+-----+--------+\n",
      "|PassengerId|Survived|Pclass|Name|Sex|Age|SibSp|Parch|Ticket|Fare|Cabin|Embarked|\n",
      "+-----------+--------+------+----+---+---+-----+-----+------+----+-----+--------+\n",
      "|          0|       0|     0|   0|  0|177|    0|    0|     0|   0|  687|       2|\n",
      "+-----------+--------+------+----+---+---+-----+-----+------+----+-----+--------+\n",
      "\n",
      "+-----------+------+----+---+---+-----+-----+------+----+-----+--------+\n",
      "|PassengerId|Pclass|Name|Sex|Age|SibSp|Parch|Ticket|Fare|Cabin|Embarked|\n",
      "+-----------+------+----+---+---+-----+-----+------+----+-----+--------+\n",
      "|          0|     0|   0|  0| 86|    0|    0|     0|   1|  327|       0|\n",
      "+-----------+------+----+---+---+-----+-----+------+----+-----+--------+\n",
      "\n"
     ]
    }
   ],
   "source": [
    "from pyspark.sql.functions import isnan, when, count, col\n",
    "\n",
    "for t in ['train', 'test']:\n",
    "    df[t].select([count(when(isnan(c) | col(c).isNull(), c)).alias(c) for c in df[t].columns]).show()"
   ]
  },
  {
   "cell_type": "code",
   "execution_count": 6,
   "metadata": {},
   "outputs": [],
   "source": [
    "# dropped columns\n",
    "dropped_columns = ['Ticket', 'Cabin']\n",
    "\n",
    "for t in ['train', 'test']:\n",
    "    df[t] = df[t].drop(*dropped_columns)"
   ]
  },
  {
   "cell_type": "code",
   "execution_count": 7,
   "metadata": {},
   "outputs": [
    {
     "data": {
      "text/html": [
       "<div>\n",
       "<style scoped>\n",
       "    .dataframe tbody tr th:only-of-type {\n",
       "        vertical-align: middle;\n",
       "    }\n",
       "\n",
       "    .dataframe tbody tr th {\n",
       "        vertical-align: top;\n",
       "    }\n",
       "\n",
       "    .dataframe thead th {\n",
       "        text-align: right;\n",
       "    }\n",
       "</style>\n",
       "<table border=\"1\" class=\"dataframe\">\n",
       "  <thead>\n",
       "    <tr style=\"text-align: right;\">\n",
       "      <th></th>\n",
       "      <th>Embarked</th>\n",
       "      <th>count</th>\n",
       "    </tr>\n",
       "  </thead>\n",
       "  <tbody>\n",
       "    <tr>\n",
       "      <th>0</th>\n",
       "      <td>Q</td>\n",
       "      <td>77</td>\n",
       "    </tr>\n",
       "    <tr>\n",
       "      <th>1</th>\n",
       "      <td>None</td>\n",
       "      <td>2</td>\n",
       "    </tr>\n",
       "    <tr>\n",
       "      <th>2</th>\n",
       "      <td>C</td>\n",
       "      <td>168</td>\n",
       "    </tr>\n",
       "    <tr>\n",
       "      <th>3</th>\n",
       "      <td>S</td>\n",
       "      <td>644</td>\n",
       "    </tr>\n",
       "  </tbody>\n",
       "</table>\n",
       "</div>"
      ],
      "text/plain": [
       "  Embarked  count\n",
       "0        Q     77\n",
       "1     None      2\n",
       "2        C    168\n",
       "3        S    644"
      ]
     },
     "execution_count": 7,
     "metadata": {},
     "output_type": "execute_result"
    }
   ],
   "source": [
    "df['train'].groupBy('Embarked').count().toPandas()"
   ]
  },
  {
   "cell_type": "code",
   "execution_count": 8,
   "metadata": {},
   "outputs": [],
   "source": [
    "#simple fill for Fare, Price, Embarked\n",
    "def fill_with_mode(df, colname):\n",
    "    # which value is occuring most often?\n",
    "    d = df.groupBy(colname).count().toPandas()\n",
    "    fill_value = d.loc[d['count'].idxmax,colname]\n",
    "    print('Filling column {} with value: {}'.format(colname, fill_value))\n",
    "\n",
    "    #fill the na\n",
    "    df = df.fillna(fill_value, colname)\n",
    "    return df\n",
    "\n",
    "\n",
    "from pyspark.sql.functions import avg\n",
    "def fill_with_mean(df, colname):\n",
    "    # which is the average / mean value?\n",
    "    d = df.select(avg(colname)).collect()\n",
    "    fill_value = d[0][0]\n",
    "    print('Filling column {} with value: {}'.format(colname, fill_value))\n",
    "    \n",
    "    #fill the na\n",
    "    df = df.fillna(fill_value, colname)\n",
    "    return df"
   ]
  },
  {
   "cell_type": "code",
   "execution_count": 9,
   "metadata": {},
   "outputs": [
    {
     "name": "stdout",
     "output_type": "stream",
     "text": [
      "-- train -----\n",
      "Filling column Embarked with value: S\n",
      "Filling column Fare with value: 32.2042079685746\n",
      "-- test -----\n",
      "Filling column Embarked with value: S\n",
      "Filling column Fare with value: 35.6271884892086\n"
     ]
    }
   ],
   "source": [
    "for t in ['train', 'test']:\n",
    "    print('-- {} -----'.format(t))\n",
    "    df[t] = fill_with_mode(df[t], 'Embarked')    \n",
    "    df[t] = fill_with_mean(df[t], 'Fare')"
   ]
  },
  {
   "cell_type": "code",
   "execution_count": 10,
   "metadata": {},
   "outputs": [
    {
     "name": "stdout",
     "output_type": "stream",
     "text": [
      "Filling column Age with value: 29.69911764705882\n"
     ]
    },
    {
     "data": {
      "text/plain": [
       "DataFrame[PassengerId: int, Survived: int, Pclass: int, Name: string, Sex: string, Age: double, SibSp: int, Parch: int, Fare: double, Embarked: string]"
      ]
     },
     "execution_count": 10,
     "metadata": {},
     "output_type": "execute_result"
    }
   ],
   "source": [
    "fill_with_mean(df['train'], 'Age')"
   ]
  },
  {
   "cell_type": "code",
   "execution_count": 11,
   "metadata": {},
   "outputs": [
    {
     "name": "stdout",
     "output_type": "stream",
     "text": [
      "+-----------+--------+------+----+---+---+-----+-----+----+--------+\n",
      "|PassengerId|Survived|Pclass|Name|Sex|Age|SibSp|Parch|Fare|Embarked|\n",
      "+-----------+--------+------+----+---+---+-----+-----+----+--------+\n",
      "|          0|       0|     0|   0|  0|177|    0|    0|   0|       0|\n",
      "+-----------+--------+------+----+---+---+-----+-----+----+--------+\n",
      "\n",
      "+-----------+------+----+---+---+-----+-----+----+--------+\n",
      "|PassengerId|Pclass|Name|Sex|Age|SibSp|Parch|Fare|Embarked|\n",
      "+-----------+------+----+---+---+-----+-----+----+--------+\n",
      "|          0|     0|   0|  0| 86|    0|    0|   0|       0|\n",
      "+-----------+------+----+---+---+-----+-----+----+--------+\n",
      "\n"
     ]
    }
   ],
   "source": [
    "from pyspark.sql.functions import isnan, when, count, col\n",
    "\n",
    "for t in ['train', 'test']:\n",
    "    df[t].select([count(when(isnan(c) | col(c).isNull(), c)).alias(c) for c in df[t].columns]).show()"
   ]
  },
  {
   "cell_type": "code",
   "execution_count": 12,
   "metadata": {},
   "outputs": [],
   "source": [
    "#EXPORT \n",
    "from pyspark.ml import Pipeline\n",
    "from pyspark.ml.feature import OneHotEncoder, VectorAssembler, StringIndexer\n",
    "from pyspark.sql.functions import col\n",
    "\n",
    "def string_indexer(features):\n",
    "    for c in features:\n",
    "        yield StringIndexer(inputCol=c, outputCol=c+'_I')\n",
    "\n",
    "def onehot(features):\n",
    "    #todo: reproducable mapping, \n",
    "    #      here the mapping depends on the data provided\n",
    "    for c in features:\n",
    "        yield OneHotEncoder(inputCol=c, outputCol=c+'_C')\n",
    "\n",
    "def vectorize(stringCols, numericDiscreteCols, numericContinuosCols):\n",
    "    #todo: automatically classify columns\n",
    "    reg_all_discrete_cols = numericDiscreteCols + [c+'_I' for c in stringCols]\n",
    "    reg_all_cols = numericContinuosCols + [c+'_C' for c in reg_all_discrete_cols]\n",
    "\n",
    "    print(reg_all_cols)\n",
    "\n",
    "    si = list(string_indexer(stringCols))\n",
    "    oh = list(onehot(reg_all_discrete_cols))\n",
    "    ar = [VectorAssembler(inputCols=reg_all_cols, outputCol=\"features\")]\n",
    "    \n",
    "    stages=si+oh+ar\n",
    "    return stages\n",
    "\n",
    "def featurize(df, idCol, labelCol, numericContinuosCols, numericDiscreteCols, stringCols):\n",
    "\n",
    "    #set the pipeline\n",
    "    stages = vectorize(stringCols, numericDiscreteCols, numericContinuosCols)\n",
    "    pipeline = Pipeline(stages=stages)\n",
    "\n",
    "    #fit\n",
    "    model = pipeline.fit(df)\n",
    "\n",
    "    #transform\n",
    "    features_df = model.transform(df).select(col(idCol).alias('id'), col(labelCol).alias('label'),'features')\n",
    "    \n",
    "    return features_df"
   ]
  },
  {
   "cell_type": "code",
   "execution_count": 15,
   "metadata": {},
   "outputs": [],
   "source": [
    "from pyspark.ml.feature import RFormula\n",
    "from pyspark.ml.regression import LinearRegression\n",
    "from pyspark.sql.functions import coalesce\n",
    "\n",
    "from pyspark.sql.functions import udf\n",
    "from pyspark.sql.types import StringType\n",
    "\n",
    "def contains_na(df, columns):\n",
    "    d = df.select([count(when(isnan(c) | col(c).isNull(), c)).alias(c) for c in columns])\n",
    "    return sum(d.collect()[0])>0\n",
    "\n",
    "def impute(df, idCol, labelCol, numericContinuosCols, numericDiscreteCols, stringCols):\n",
    "    # featurize\n",
    "    df_features = featurize(df, idCol, labelCol, numericContinuosCols, numericDiscreteCols, stringCols)\n",
    "    \n",
    "    # create lr estimator\n",
    "    lr = LinearRegression(maxIter=10, regParam=0.3, elasticNetParam=0.8)\n",
    "\n",
    "    # Fit the model\n",
    "    lrModel = lr.fit(df_features.where(df_features.label.isNotNull()))\n",
    "    \n",
    "    # Print the coefficients and intercept for linear regression\n",
    "    #print(\"Coefficients:\")\n",
    "    #print(*(lrModel.coefficients), sep='\\n')\n",
    "    #print(\"Intercept: \\n{}\".format(lrModel.intercept))\n",
    "\n",
    "    # Summarize the model over the training set and print out some metrics\n",
    "    trainingSummary = lrModel.summary\n",
    "\n",
    "    print(\"RMSE: %f\" % trainingSummary.rootMeanSquaredError)\n",
    "    print(\"r2: %f\" % trainingSummary.r2)\n",
    "    \n",
    "    # impute dependent variable\n",
    "    df_impute = lrModel.transform(df_features)\n",
    "    \n",
    "    # join prediction with original dataframe\n",
    "    df = df.join(df_impute.select(col('id').alias(idCol),'prediction'), idCol, \"leftouter\") \n",
    "\n",
    "    # coalesce null using imputation\n",
    "    df =  df.withColumn(labelCol,coalesce(df[labelCol],df.prediction)).drop('prediction')\n",
    "\n",
    "    return df"
   ]
  },
  {
   "cell_type": "code",
   "execution_count": 16,
   "metadata": {},
   "outputs": [
    {
     "name": "stdout",
     "output_type": "stream",
     "text": [
      "-- train -----\n",
      "['Fare', 'Pclass_C', 'SibSp_C', 'Parch_C', 'Sex_I_C', 'Embarked_I_C']\n",
      "RMSE: 10.815446\n",
      "r2: 0.342274\n",
      "+-----------+--------+------+--------------------+------+------------------+-----+-----+-------+--------+\n",
      "|PassengerId|Survived|Pclass|                Name|   Sex|               Age|SibSp|Parch|   Fare|Embarked|\n",
      "+-----------+--------+------+--------------------+------+------------------+-----+-----+-------+--------+\n",
      "|        148|       0|     3|\"Ford, Miss. Robi...|female|               9.0|    2|    2| 34.375|       S|\n",
      "|        463|       0|     1|   Gee, Mr. Arthur H|  male|              47.0|    0|    0|   38.5|       S|\n",
      "|        471|       0|     3|   Keefe, Mr. Arthur|  male|28.969004917444263|    0|    0|   7.25|       S|\n",
      "|        496|       0|     3|Yousseff, Mr. Ger...|  male|27.109534150849232|    0|    0|14.4583|       C|\n",
      "|        833|       0|     3|      Saad, Mr. Amin|  male|27.140076957451512|    0|    0| 7.2292|       C|\n",
      "|        243|       0|     2|Coleridge, Mr. Re...|  male|              29.0|    0|    0|   10.5|       S|\n",
      "|        392|       1|     3|Jansson, Mr. Carl...|  male|              21.0|    0|    0| 7.7958|       S|\n",
      "|        540|       1|     1|Frolicher, Miss. ...|female|              22.0|    0|    2|   49.5|       C|\n",
      "|        623|       1|     3|    Nakid, Mr. Sahid|  male|              20.0|    1|    1|15.7417|       C|\n",
      "|        737|       0|     3|Ford, Mrs. Edward...|female|              48.0|    1|    3| 34.375|       S|\n",
      "|        858|       1|     1|Daly, Mr. Peter D...|  male|              51.0|    0|    0|  26.55|       S|\n",
      "|         31|       0|     1|Uruchurtu, Don. M...|  male|              40.0|    0|    0|27.7208|       C|\n",
      "|        516|       0|     1|Walker, Mr. Willi...|  male|              47.0|    0|    0|34.0208|       S|\n",
      "|         85|       1|     2| Ilett, Miss. Bertha|female|              17.0|    0|    0|   10.5|       S|\n",
      "|        137|       1|     1|Newsom, Miss. Hel...|female|              19.0|    0|    2|26.2833|       S|\n",
      "|        251|       0|     3|Reed, Mr. James G...|  male|28.969004917444263|    0|    0|   7.25|       S|\n",
      "|        451|       0|     2|West, Mr. Edwy Ar...|  male|              36.0|    1|    2|  27.75|       S|\n",
      "|        580|       1|     3| Jussila, Mr. Eiriik|  male|              32.0|    0|    0|  7.925|       S|\n",
      "|        808|       0|     3|Pettersson, Miss....|female|              18.0|    0|    0|  7.775|       S|\n",
      "|         65|       0|     1|Stewart, Mr. Albe...|  male|40.517232950768154|    0|    0|27.7208|       C|\n",
      "+-----------+--------+------+--------------------+------+------------------+-----+-----+-------+--------+\n",
      "only showing top 20 rows\n",
      "\n",
      "-- test -----\n",
      "['Fare', 'Pclass_C', 'SibSp_C', 'Parch_C', 'Sex_I_C', 'Embarked_I_C']\n",
      "RMSE: 10.403833\n",
      "r2: 0.348194\n",
      "+-----------+------+--------------------+------+----------------+-----+-----+-------+--------+\n",
      "|PassengerId|Pclass|                Name|   Sex|             Age|SibSp|Parch|   Fare|Embarked|\n",
      "+-----------+------+--------------------+------+----------------+-----+-----+-------+--------+\n",
      "|        892|     3|    Kelly, Mr. James|  male|            34.5|    0|    0| 7.8292|       Q|\n",
      "|        893|     3|Wilkes, Mrs. Jame...|female|            47.0|    1|    0|    7.0|       S|\n",
      "|        894|     2|Myles, Mr. Thomas...|  male|            62.0|    0|    0| 9.6875|       Q|\n",
      "|        895|     3|    Wirz, Mr. Albert|  male|            27.0|    0|    0| 8.6625|       S|\n",
      "|        896|     3|Hirvonen, Mrs. Al...|female|            22.0|    1|    1|12.2875|       S|\n",
      "|        897|     3|Svensson, Mr. Joh...|  male|            14.0|    0|    0|  9.225|       S|\n",
      "|        898|     3|Connolly, Miss. Kate|female|            30.0|    0|    0| 7.6292|       Q|\n",
      "|        899|     2|Caldwell, Mr. Alb...|  male|            26.0|    1|    1|   29.0|       S|\n",
      "|        900|     3|Abrahim, Mrs. Jos...|female|            18.0|    0|    0| 7.2292|       C|\n",
      "|        901|     3|Davies, Mr. John ...|  male|            21.0|    2|    0|  24.15|       S|\n",
      "|        902|     3|    Ilieff, Mr. Ylio|  male|26.0066152304355|    0|    0| 7.8958|       S|\n",
      "|        903|     1|Jones, Mr. Charle...|  male|            46.0|    0|    0|   26.0|       S|\n",
      "|        904|     1|Snyder, Mrs. John...|female|            23.0|    1|    0|82.2667|       S|\n",
      "|        905|     2|Howard, Mr. Benjamin|  male|            63.0|    1|    0|   26.0|       S|\n",
      "|        906|     1|Chaffee, Mrs. Her...|female|            47.0|    1|    0| 61.175|       S|\n",
      "|        907|     2|del Carlo, Mrs. S...|female|            24.0|    1|    0|27.7208|       C|\n",
      "|        908|     2|   Keane, Mr. Daniel|  male|            35.0|    0|    0|  12.35|       Q|\n",
      "|        909|     3|   Assaf, Mr. Gerios|  male|            21.0|    0|    0|  7.225|       C|\n",
      "|        910|     3|Ilmakangas, Miss....|female|            27.0|    1|    0|  7.925|       S|\n",
      "|        911|     3|\"Assaf Khalil, Mr...|female|            45.0|    0|    0|  7.225|       C|\n",
      "+-----------+------+--------------------+------+----------------+-----+-----+-------+--------+\n",
      "only showing top 20 rows\n",
      "\n"
     ]
    }
   ],
   "source": [
    "for t in ['train', 'test']:\n",
    "    print('-- {} -----'.format(t))\n",
    "    df[t] = impute(df[t], 'PassengerId', 'Age', ['Fare'], ['Pclass','SibSp','Parch'], ['Sex', 'Embarked'])\n",
    "    df[t].show()"
   ]
  },
  {
   "cell_type": "markdown",
   "metadata": {},
   "source": [
    "### No NA beyond this point"
   ]
  },
  {
   "cell_type": "code",
   "execution_count": 17,
   "metadata": {},
   "outputs": [],
   "source": [
    "for t in ['train', 'test']:\n",
    "    assert not contains_na(df[t], df[t].columns)"
   ]
  },
  {
   "cell_type": "markdown",
   "metadata": {},
   "source": [
    "### Write the output"
   ]
  },
  {
   "cell_type": "code",
   "execution_count": 18,
   "metadata": {},
   "outputs": [],
   "source": [
    "for t in ['train', 'test']:\n",
    "    engine.write(df[t], '.etl.clean.{}'.format(t), mode='overwrite')"
   ]
  },
  {
   "cell_type": "code",
   "execution_count": null,
   "metadata": {},
   "outputs": [],
   "source": []
  },
  {
   "cell_type": "code",
   "execution_count": null,
   "metadata": {},
   "outputs": [],
   "source": []
  }
 ],
 "metadata": {
  "kernelspec": {
   "display_name": "Python 3",
   "language": "python",
   "name": "python3"
  },
  "language_info": {
   "codemirror_mode": {
    "name": "ipython",
    "version": 3
   },
   "file_extension": ".py",
   "mimetype": "text/x-python",
   "name": "python",
   "nbconvert_exporter": "python",
   "pygments_lexer": "ipython3",
   "version": "3.6.6"
  }
 },
 "nbformat": 4,
 "nbformat_minor": 2
}
