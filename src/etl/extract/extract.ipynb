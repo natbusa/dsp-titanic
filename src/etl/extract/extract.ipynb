{
 "cells": [
  {
   "cell_type": "markdown",
   "metadata": {
    "deletable": true,
    "editable": true
   },
   "source": [
    "## Titanic Dataset"
   ]
  },
  {
   "cell_type": "code",
   "execution_count": 31,
   "metadata": {},
   "outputs": [
    {
     "name": "stdout",
     "output_type": "stream",
     "text": [
      "Collecting git+https://github.com/natbusa/datalabframework.git\n",
      "  Cloning https://github.com/natbusa/datalabframework.git to /tmp/pip-lveumzrv-build\n",
      "  Requirement already satisfied (use --upgrade to upgrade): datalabframework==0.1.5 from git+https://github.com/natbusa/datalabframework.git in /opt/conda/lib/python3.6/site-packages\n",
      "Requirement already satisfied: requests in /opt/conda/lib/python3.6/site-packages (from datalabframework==0.1.5)\n",
      "Requirement already satisfied: pyyaml in /opt/conda/lib/python3.6/site-packages (from datalabframework==0.1.5)\n",
      "Requirement already satisfied: chardet<3.1.0,>=3.0.2 in /opt/conda/lib/python3.6/site-packages (from requests->datalabframework==0.1.5)\n",
      "Requirement already satisfied: idna<2.8,>=2.5 in /opt/conda/lib/python3.6/site-packages (from requests->datalabframework==0.1.5)\n",
      "Requirement already satisfied: urllib3<1.24,>=1.21.1 in /opt/conda/lib/python3.6/site-packages (from requests->datalabframework==0.1.5)\n",
      "Requirement already satisfied: certifi>=2017.4.17 in /opt/conda/lib/python3.6/site-packages (from requests->datalabframework==0.1.5)\n",
      "\u001b[33mYou are using pip version 9.0.3, however version 10.0.1 is available.\n",
      "You should consider upgrading via the 'pip install --upgrade pip' command.\u001b[0m\n"
     ]
    }
   ],
   "source": [
    "!pip install git+https://github.com/natbusa/datalabframework.git"
   ]
  },
  {
   "cell_type": "code",
   "execution_count": 1,
   "metadata": {
    "collapsed": false,
    "deletable": true,
    "editable": true
   },
   "outputs": [],
   "source": [
    "import datalabframework as dlf"
   ]
  },
  {
   "cell_type": "code",
   "execution_count": 2,
   "metadata": {},
   "outputs": [
    {
     "data": {
      "text/plain": [
       "'/home/jovyan/src'"
      ]
     },
     "execution_count": 2,
     "metadata": {},
     "output_type": "execute_result"
    }
   ],
   "source": [
    "dlf.project.rootpath()"
   ]
  },
  {
   "cell_type": "markdown",
   "metadata": {
    "deletable": true,
    "editable": true
   },
   "source": [
    "## Data"
   ]
  },
  {
   "cell_type": "code",
   "execution_count": 3,
   "metadata": {
    "collapsed": false,
    "deletable": true,
    "editable": true
   },
   "outputs": [
    {
     "name": "stdout",
     "output_type": "stream",
     "text": [
      "{\n",
      "  \".elements.extract.train\": {\n",
      "    \"path\": \"extract/data.hdf\",\n",
      "    \"format\": \"hdf\",\n",
      "    \"provider\": \"local\"\n",
      "  },\n",
      "  \".etl.extract.train\": {\n",
      "    \"path\": \"datasets/extract/train\",\n",
      "    \"provider\": \"local\"\n",
      "  },\n",
      "  \".etl.extract.test\": {\n",
      "    \"path\": \"datasets/extract/test\",\n",
      "    \"provider\": \"local\"\n",
      "  },\n",
      "  \".elements.raw.test\": {\n",
      "    \"path\": \"raw/test.csv\",\n",
      "    \"format\": \"csv\",\n",
      "    \"provider\": \"local\"\n",
      "  },\n",
      "  \".elements.extract.test\": {\n",
      "    \"path\": \"extract/data.hdf\",\n",
      "    \"format\": \"hdf\",\n",
      "    \"provider\": \"local\"\n",
      "  },\n",
      "  \".etl.raw.test\": {\n",
      "    \"path\": \"datasets/raw/test.csv\",\n",
      "    \"format\": \"csv\",\n",
      "    \"provider\": \"local\"\n",
      "  },\n",
      "  \".etl.raw.train\": {\n",
      "    \"path\": \"datasets/raw/train.csv\",\n",
      "    \"format\": \"csv\",\n",
      "    \"provider\": \"local\"\n",
      "  },\n",
      "  \".bla\": {\n",
      "    \"oh\": \"la la\"\n",
      "  },\n",
      "  \".elements.raw.train\": {\n",
      "    \"path\": \"raw/train.csv\",\n",
      "    \"format\": \"csv\",\n",
      "    \"provider\": \"local\"\n",
      "  }\n",
      "}\n"
     ]
    }
   ],
   "source": [
    "# get the aliases of the data resources\n",
    "import json\n",
    "\n",
    "metadata = dlf.params.metadata()\n",
    "print(json.dumps(metadata['data']['resources'], indent=2))"
   ]
  },
  {
   "cell_type": "markdown",
   "metadata": {
    "deletable": true,
    "editable": true
   },
   "source": [
    "#### Init Spark"
   ]
  },
  {
   "cell_type": "code",
   "execution_count": 10,
   "metadata": {
    "collapsed": false,
    "deletable": true,
    "editable": true
   },
   "outputs": [],
   "source": [
    "engine = dlf.engines.get('spark')\n",
    "spark = engine.context()"
   ]
  },
  {
   "cell_type": "code",
   "execution_count": 11,
   "metadata": {},
   "outputs": [
    {
     "data": {
      "text/plain": [
       "'spark:2.3.0'"
      ]
     },
     "execution_count": 11,
     "metadata": {},
     "output_type": "execute_result"
    }
   ],
   "source": [
    "#print out name and version\n",
    "'{}:{}'.format(engine.info['context'], spark.sparkSession.version)"
   ]
  },
  {
   "cell_type": "markdown",
   "metadata": {
    "deletable": true,
    "editable": true
   },
   "source": [
    "#### Load Dataset"
   ]
  },
  {
   "cell_type": "code",
   "execution_count": 22,
   "metadata": {
    "collapsed": false,
    "deletable": true,
    "editable": true
   },
   "outputs": [
    {
     "data": {
      "text/plain": [
       "['PassengerId',\n",
       " 'Survived',\n",
       " 'Pclass',\n",
       " 'Name',\n",
       " 'Sex',\n",
       " 'Age',\n",
       " 'SibSp',\n",
       " 'Parch',\n",
       " 'Ticket',\n",
       " 'Fare',\n",
       " 'Cabin',\n",
       " 'Embarked']"
      ]
     },
     "execution_count": 22,
     "metadata": {},
     "output_type": "execute_result"
    }
   ],
   "source": [
    "df = engine.read('.etl.raw.train')\n",
    "df.columns"
   ]
  },
  {
   "cell_type": "markdown",
   "metadata": {},
   "source": [
    "Remove Ticket and Cabin columns"
   ]
  },
  {
   "cell_type": "code",
   "execution_count": 23,
   "metadata": {
    "collapsed": false,
    "deletable": true,
    "editable": true
   },
   "outputs": [],
   "source": [
    "df = df.drop('Ticket').drop('Cabin')"
   ]
  },
  {
   "cell_type": "markdown",
   "metadata": {
    "deletable": true,
    "editable": true
   },
   "source": [
    "#### Save as parquet"
   ]
  },
  {
   "cell_type": "code",
   "execution_count": 26,
   "metadata": {
    "collapsed": true,
    "deletable": true,
    "editable": true
   },
   "outputs": [],
   "source": [
    "df.write.parquet(dlf.data.path('.etl.extract.train'), mode='overwrite')"
   ]
  },
  {
   "cell_type": "markdown",
   "metadata": {
    "deletable": true,
    "editable": true
   },
   "source": [
    "#### Explore the dataset"
   ]
  },
  {
   "cell_type": "code",
   "execution_count": 27,
   "metadata": {
    "collapsed": false,
    "deletable": true,
    "editable": true
   },
   "outputs": [
    {
     "name": "stdout",
     "output_type": "stream",
     "text": [
      "+-----------+--------+------+--------------------+------+----+-----+-----+-------+--------+\n",
      "|PassengerId|Survived|Pclass|                Name|   Sex| Age|SibSp|Parch|   Fare|Embarked|\n",
      "+-----------+--------+------+--------------------+------+----+-----+-----+-------+--------+\n",
      "|          1|       0|     3|Braund, Mr. Owen ...|  male|22.0|    1|    0|   7.25|       S|\n",
      "|          2|       1|     1|Cumings, Mrs. Joh...|female|38.0|    1|    0|71.2833|       C|\n",
      "|          3|       1|     3|Heikkinen, Miss. ...|female|26.0|    0|    0|  7.925|       S|\n",
      "|          4|       1|     1|Futrelle, Mrs. Ja...|female|35.0|    1|    0|   53.1|       S|\n",
      "|          5|       0|     3|Allen, Mr. Willia...|  male|35.0|    0|    0|   8.05|       S|\n",
      "|          6|       0|     3|    Moran, Mr. James|  male|null|    0|    0| 8.4583|       Q|\n",
      "|          7|       0|     1|McCarthy, Mr. Tim...|  male|54.0|    0|    0|51.8625|       S|\n",
      "|          8|       0|     3|Palsson, Master. ...|  male| 2.0|    3|    1| 21.075|       S|\n",
      "|          9|       1|     3|Johnson, Mrs. Osc...|female|27.0|    0|    2|11.1333|       S|\n",
      "|         10|       1|     2|Nasser, Mrs. Nich...|female|14.0|    1|    0|30.0708|       C|\n",
      "+-----------+--------+------+--------------------+------+----+-----+-----+-------+--------+\n",
      "only showing top 10 rows\n",
      "\n"
     ]
    }
   ],
   "source": [
    "df.show(10, truncate=True)"
   ]
  },
  {
   "cell_type": "code",
   "execution_count": 28,
   "metadata": {
    "collapsed": false,
    "deletable": true,
    "editable": true
   },
   "outputs": [
    {
     "name": "stdout",
     "output_type": "stream",
     "text": [
      "PassengerId  Integer    True\n",
      "Survived     Integer    True\n",
      "Pclass       Integer    True\n",
      "Name         String     True\n",
      "Sex          String     True\n",
      "Age          Double     True\n",
      "SibSp        Integer    True\n",
      "Parch        Integer    True\n",
      "Fare         Double     True\n",
      "Embarked     String     True\n"
     ]
    }
   ],
   "source": [
    "for column in df.schema:\n",
    "    print('{:<12} {:<10} {}'.format(column.name, str(column.dataType)[:-4], column.nullable))"
   ]
  },
  {
   "cell_type": "code",
   "execution_count": null,
   "metadata": {
    "collapsed": true
   },
   "outputs": [],
   "source": []
  }
 ],
 "metadata": {
  "kernelspec": {
   "display_name": "Python 3",
   "language": "python",
   "name": "python3"
  },
  "language_info": {
   "codemirror_mode": {
    "name": "ipython",
    "version": 3
   },
   "file_extension": ".py",
   "mimetype": "text/x-python",
   "name": "python",
   "nbconvert_exporter": "python",
   "pygments_lexer": "ipython3",
   "version": "3.6.5"
  }
 },
 "nbformat": 4,
 "nbformat_minor": 2
}
