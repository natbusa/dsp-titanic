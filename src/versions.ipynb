{
 "cells": [
  {
   "cell_type": "markdown",
   "metadata": {},
   "source": [
    "# Versions\n",
    "\n",
    "Import some bespoken python data science libraries and print their version numbers  \n",
    "In order to be both human and machine readable, the convention should be `<package-name>: <version-name>`"
   ]
  },
  {
   "cell_type": "code",
   "execution_count": 1,
   "metadata": {},
   "outputs": [],
   "source": [
    "import pandas as pd"
   ]
  },
  {
   "cell_type": "code",
   "execution_count": 2,
   "metadata": {},
   "outputs": [
    {
     "name": "stdout",
     "output_type": "stream",
     "text": [
      "\n",
      "INSTALLED VERSIONS\n",
      "------------------\n",
      "commit: None\n",
      "python: 3.6.3.final.0\n",
      "python-bits: 64\n",
      "OS: Linux\n",
      "OS-release: 4.13.0-26-generic\n",
      "machine: x86_64\n",
      "processor: x86_64\n",
      "byteorder: little\n",
      "LC_ALL: None\n",
      "LANG: en_US.UTF-8\n",
      "LOCALE: en_US.UTF-8\n",
      "\n",
      "pandas: 0.20.3\n",
      "pytest: 3.2.1\n",
      "pip: 9.0.1\n",
      "setuptools: 36.5.0.post20170921\n",
      "Cython: 0.26.1\n",
      "numpy: 1.13.3\n",
      "scipy: 0.19.1\n",
      "xarray: None\n",
      "IPython: 6.1.0\n",
      "sphinx: 1.6.3\n",
      "patsy: 0.4.1\n",
      "dateutil: 2.6.1\n",
      "pytz: 2017.2\n",
      "blosc: None\n",
      "bottleneck: 1.2.1\n",
      "tables: 3.4.2\n",
      "numexpr: 2.6.2\n",
      "feather: None\n",
      "matplotlib: 2.1.0\n",
      "openpyxl: 2.4.8\n",
      "xlrd: 1.1.0\n",
      "xlwt: 1.3.0\n",
      "xlsxwriter: 1.0.2\n",
      "lxml: 4.1.0\n",
      "bs4: 4.6.0\n",
      "html5lib: 0.9999999\n",
      "sqlalchemy: 1.1.13\n",
      "pymysql: None\n",
      "psycopg2: None\n",
      "jinja2: 2.9.6\n",
      "s3fs: None\n",
      "pandas_gbq: None\n",
      "pandas_datareader: None\n",
      "None\n"
     ]
    }
   ],
   "source": [
    "print(pd.show_versions())"
   ]
  },
  {
   "cell_type": "code",
   "execution_count": 2,
   "metadata": {},
   "outputs": [],
   "source": [
    "import datalabframework as dlf"
   ]
  },
  {
   "cell_type": "code",
   "execution_count": 4,
   "metadata": {},
   "outputs": [
    {
     "data": {
      "text/plain": [
       "'/home/natbusa/Projects/dsp-titanic/src/./data/clean/test.csv'"
      ]
     },
     "execution_count": 4,
     "metadata": {},
     "output_type": "execute_result"
    }
   ],
   "source": [
    "dlf.data.path('.elements.clean.test')"
   ]
  },
  {
   "cell_type": "code",
   "execution_count": 5,
   "metadata": {},
   "outputs": [
    {
     "data": {
      "text/plain": [
       "{'data': {'providers': {'local': {'rootpath': './data', 'service': 'fs'}},\n",
       "  'resources': {'.bla': {'oh': 'la la'},\n",
       "   '.elements.clean.test': {'flow': 'input',\n",
       "    'format': 'csv',\n",
       "    'path': 'clean/test.csv',\n",
       "    'provider': 'local',\n",
       "    'sample': 1.0,\n",
       "    'type': 'text'},\n",
       "   '.elements.clean.train': {'flow': 'input',\n",
       "    'format': 'csv',\n",
       "    'options': {'header': True, 'inferSchema': True},\n",
       "    'path': 'clean/train.csv',\n",
       "    'provider': 'local',\n",
       "    'type': 'text'},\n",
       "   '.elements.extract.test': {'flow': 'input',\n",
       "    'format': 'csv',\n",
       "    'path': 'source/test.csv',\n",
       "    'provider': 'local',\n",
       "    'sample': 1.0,\n",
       "    'type': 'text'},\n",
       "   '.elements.extract.train': {'flow': 'input',\n",
       "    'format': 'csv',\n",
       "    'options': {'header': True, 'inferSchema': True},\n",
       "    'path': 'source/train.csv',\n",
       "    'provider': 'local',\n",
       "    'type': 'text'},\n",
       "   '.test': {'flow': 'input',\n",
       "    'format': 'csv',\n",
       "    'path': 'clean/test.csv',\n",
       "    'provider': 'local',\n",
       "    'sample': 1.0,\n",
       "    'type': 'text'},\n",
       "   '.train': {'flow': 'input',\n",
       "    'format': 'csv',\n",
       "    'options': {'header': True, 'inferSchema': True},\n",
       "    'path': 'clean/train.csv',\n",
       "    'provider': 'local',\n",
       "    'type': 'text'}}},\n",
       " 'execution': {'engines': {'numpy': {'kernel': 'python', 'loader': 'numpy'},\n",
       "   'pandas': {'kernel': 'python', 'loader': 'pandas'},\n",
       "   'spark': {'context': {'config': {'a': 1, 'b': 2},\n",
       "     'jobname': 'test',\n",
       "     'master': 'local[4]'},\n",
       "    'kernel': 'spark',\n",
       "    'loader': 'dataframe'}}},\n",
       " 'logging': {'handlers': {'kafka': {'enable': True,\n",
       "    'hosts': ['10.10.10.1', '10.10.10.2', '10.10.10.3'],\n",
       "    'topic': 'dlf'},\n",
       "   'stream': {'enable': True}},\n",
       "  'severity': 'info'}}"
      ]
     },
     "execution_count": 5,
     "metadata": {},
     "output_type": "execute_result"
    }
   ],
   "source": [
    "dlf.params.metadata()"
   ]
  },
  {
   "cell_type": "code",
   "execution_count": 2,
   "metadata": {},
   "outputs": [
    {
     "data": {
      "text/plain": [
       "'/home/natbusa/Projects/dsp-titanic/src/versions.ipynb'"
      ]
     },
     "execution_count": 2,
     "metadata": {},
     "output_type": "execute_result"
    }
   ],
   "source": [
    "dlf.notebook.get_notebook_filename()"
   ]
  },
  {
   "cell_type": "code",
   "execution_count": 4,
   "metadata": {},
   "outputs": [
    {
     "data": {
      "text/plain": [
       "('', 'versions')"
      ]
     },
     "execution_count": 4,
     "metadata": {},
     "output_type": "execute_result"
    }
   ],
   "source": [
    "dlf.notebook.filename()"
   ]
  },
  {
   "cell_type": "code",
   "execution_count": 6,
   "metadata": {},
   "outputs": [
    {
     "data": {
      "text/plain": [
       "['main.ipynb', 'versions.ipynb', 'elements/extract/extract.ipynb']"
      ]
     },
     "execution_count": 6,
     "metadata": {},
     "output_type": "execute_result"
    }
   ],
   "source": [
    "dlf.notebook.list_all()"
   ]
  },
  {
   "cell_type": "code",
   "execution_count": 7,
   "metadata": {},
   "outputs": [
    {
     "data": {
      "text/plain": [
       "{'cells': 14,\n",
       " 'code': 13,\n",
       " 'ename': None,\n",
       " 'evalue': None,\n",
       " 'executed': 11,\n",
       " 'markdown': 1}"
      ]
     },
     "execution_count": 7,
     "metadata": {},
     "output_type": "execute_result"
    }
   ],
   "source": [
    "dlf.notebook.statistics('versions.ipynb')"
   ]
  },
  {
   "cell_type": "code",
   "execution_count": 8,
   "metadata": {},
   "outputs": [
    {
     "data": {
      "text/plain": [
       "[{'cells': 5,\n",
       "  'code': 3,\n",
       "  'duration': 2.341285,\n",
       "  'ename': None,\n",
       "  'evalue': None,\n",
       "  'executed': 3,\n",
       "  'filename': '/home/natbusa/Projects/dsp-titanic/src/main.ipynb',\n",
       "  'markdown': 2,\n",
       "  'success': 1}]"
      ]
     },
     "execution_count": 8,
     "metadata": {},
     "output_type": "execute_result"
    }
   ],
   "source": [
    "dlf.notebook.execute('main.ipynb')"
   ]
  },
  {
   "cell_type": "code",
   "execution_count": 9,
   "metadata": {},
   "outputs": [
    {
     "data": {
      "text/plain": [
       "'/home/natbusa/Projects/dsp-titanic/src'"
      ]
     },
     "execution_count": 9,
     "metadata": {},
     "output_type": "execute_result"
    }
   ],
   "source": [
    "dlf.project.rootpath()"
   ]
  },
  {
   "cell_type": "code",
   "execution_count": 10,
   "metadata": {},
   "outputs": [
    {
     "name": "stdout",
     "output_type": "stream",
     "text": [
      "importing Jupyter notebook from main.ipynb\n"
     ]
    }
   ],
   "source": [
    "import main"
   ]
  },
  {
   "cell_type": "code",
   "execution_count": 11,
   "metadata": {},
   "outputs": [
    {
     "name": "stdout",
     "output_type": "stream",
     "text": [
      "hi world\n"
     ]
    }
   ],
   "source": [
    "main.hello()"
   ]
  },
  {
   "cell_type": "code",
   "execution_count": null,
   "metadata": {},
   "outputs": [],
   "source": []
  },
  {
   "cell_type": "code",
   "execution_count": null,
   "metadata": {},
   "outputs": [],
   "source": []
  }
 ],
 "metadata": {
  "kernelspec": {
   "display_name": "Python 3",
   "language": "python",
   "name": "python3"
  },
  "language_info": {
   "codemirror_mode": {
    "name": "ipython",
    "version": 3
   },
   "file_extension": ".py",
   "mimetype": "text/x-python",
   "name": "python",
   "nbconvert_exporter": "python",
   "pygments_lexer": "ipython3",
   "version": "3.6.3"
  }
 },
 "nbformat": 4,
 "nbformat_minor": 2
}
