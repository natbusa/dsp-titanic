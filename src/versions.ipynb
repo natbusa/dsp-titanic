{
 "cells": [
  {
   "cell_type": "markdown",
   "metadata": {},
   "source": [
    "# Versions\n",
    "\n",
    "Import some bespoken python data science libraries and print their version numbers  \n",
    "In order to be both human and machine readable, the convention should be `<package-name>: <version-name>`"
   ]
  },
  {
   "cell_type": "code",
   "execution_count": 2,
   "metadata": {},
   "outputs": [],
   "source": [
    "import pandas as pd"
   ]
  },
  {
   "cell_type": "code",
   "execution_count": 3,
   "metadata": {},
   "outputs": [
    {
     "name": "stdout",
     "output_type": "stream",
     "text": [
      "\n",
      "INSTALLED VERSIONS\n",
      "------------------\n",
      "commit: None\n",
      "python: 3.6.4.final.0\n",
      "python-bits: 64\n",
      "OS: Linux\n",
      "OS-release: 4.13.0-26-generic\n",
      "machine: x86_64\n",
      "processor: x86_64\n",
      "byteorder: little\n",
      "LC_ALL: en_US.UTF-8\n",
      "LANG: en_US.UTF-8\n",
      "LOCALE: en_US.UTF-8\n",
      "\n",
      "pandas: 0.22.0\n",
      "pytest: None\n",
      "pip: 9.0.1\n",
      "setuptools: 38.4.0\n",
      "Cython: None\n",
      "numpy: 1.14.0\n",
      "scipy: None\n",
      "pyarrow: None\n",
      "xarray: None\n",
      "IPython: 6.2.1\n",
      "sphinx: None\n",
      "patsy: None\n",
      "dateutil: 2.6.1\n",
      "pytz: 2018.3\n",
      "blosc: None\n",
      "bottleneck: None\n",
      "tables: None\n",
      "numexpr: None\n",
      "feather: None\n",
      "matplotlib: None\n",
      "openpyxl: None\n",
      "xlrd: None\n",
      "xlwt: None\n",
      "xlsxwriter: None\n",
      "lxml: None\n",
      "bs4: None\n",
      "html5lib: 1.0.1\n",
      "sqlalchemy: None\n",
      "pymysql: None\n",
      "psycopg2: None\n",
      "jinja2: 2.10\n",
      "s3fs: None\n",
      "fastparquet: None\n",
      "pandas_gbq: None\n",
      "pandas_datareader: None\n",
      "None\n"
     ]
    }
   ],
   "source": [
    "print(pd.show_versions())"
   ]
  },
  {
   "cell_type": "code",
   "execution_count": 14,
   "metadata": {
    "collapsed": true
   },
   "outputs": [
    {
     "name": "stdout",
     "output_type": "stream",
     "text": [
      "MemTotal:       16272256 kB\n",
      "MemFree:         8566036 kB\n",
      "MemAvailable:   11805632 kB\n",
      "Buffers:          145500 kB\n",
      "Cached:          3336888 kB\n",
      "SwapCached:            0 kB\n",
      "Active:          4456520 kB\n",
      "Inactive:        2625616 kB\n",
      "Active(anon):    3602316 kB\n",
      "Inactive(anon):    89940 kB\n",
      "Active(file):     854204 kB\n",
      "Inactive(file):  2535676 kB\n",
      "Unevictable:         344 kB\n",
      "Mlocked:             344 kB\n",
      "SwapTotal:      16624636 kB\n",
      "SwapFree:       16624636 kB\n",
      "Dirty:               424 kB\n",
      "Writeback:             0 kB\n",
      "AnonPages:       3598508 kB\n",
      "Mapped:           662984 kB\n",
      "Shmem:             92512 kB\n",
      "Slab:             310944 kB\n",
      "SReclaimable:     191908 kB\n",
      "SUnreclaim:       119036 kB\n",
      "KernelStack:       17760 kB\n",
      "PageTables:        70908 kB\n",
      "NFS_Unstable:          0 kB\n",
      "Bounce:                0 kB\n",
      "WritebackTmp:          0 kB\n",
      "CommitLimit:    24760764 kB\n",
      "Committed_AS:   13971152 kB\n",
      "VmallocTotal:   34359738367 kB\n",
      "VmallocUsed:           0 kB\n",
      "VmallocChunk:          0 kB\n",
      "HardwareCorrupted:     0 kB\n",
      "AnonHugePages:         0 kB\n",
      "ShmemHugePages:        0 kB\n",
      "ShmemPmdMapped:        0 kB\n",
      "CmaTotal:              0 kB\n",
      "CmaFree:               0 kB\n",
      "HugePages_Total:       0\n",
      "HugePages_Free:        0\n",
      "HugePages_Rsvd:        0\n",
      "HugePages_Surp:        0\n",
      "Hugepagesize:       2048 kB\n",
      "DirectMap4k:      455000 kB\n",
      "DirectMap2M:     8830976 kB\n",
      "DirectMap1G:     7340032 kB\n"
     ]
    }
   ],
   "source": [
    "!cat /proc/meminfo"
   ]
  },
  {
   "cell_type": "code",
   "execution_count": null,
   "metadata": {},
   "outputs": [],
   "source": []
  }
 ],
 "metadata": {
  "kernelspec": {
   "display_name": "Python 3",
   "language": "python",
   "name": "python3"
  },
  "language_info": {
   "codemirror_mode": {
    "name": "ipython",
    "version": 3
   },
   "file_extension": ".py",
   "mimetype": "text/x-python",
   "name": "python",
   "nbconvert_exporter": "python",
   "pygments_lexer": "ipython3",
   "version": "3.6.4"
  }
 },
 "nbformat": 4,
 "nbformat_minor": 2
}
